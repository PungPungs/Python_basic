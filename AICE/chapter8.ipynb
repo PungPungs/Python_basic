{
 "cells": [
  {
   "cell_type": "code",
   "execution_count": 1,
   "metadata": {},
   "outputs": [],
   "source": [
    "from sklearn.linear_model import LinearRegression\n",
    "import numpy as np\n",
    "import matplotlib.pyplot as plt\n",
    "import pandas as pd\n",
    "np.random.seed(2023)"
   ]
  },
  {
   "cell_type": "code",
   "execution_count": 3,
   "metadata": {},
   "outputs": [
    {
     "name": "stdout",
     "output_type": "stream",
     "text": [
      "x : [1, 2, 3, 4, 5, 6, 7, 8, 9, 10]\n",
      "y : [11, 15, 19, 23, 27, 31, 35, 39, 43, 47]\n"
     ]
    }
   ],
   "source": [
    "x = []\n",
    "y = []\n",
    "for i in range(1,11):\n",
    "    x.append(i)\n",
    "    y.append(4 * i + 7)\n",
    "\n",
    "print(f\"x : {x}\")\n",
    "print(f\"y : {y}\")"
   ]
  },
  {
   "cell_type": "code",
   "execution_count": null,
   "metadata": {},
   "outputs": [
    {
     "name": "stdout",
     "output_type": "stream",
     "text": [
      "학습데이터 확인\n",
      "x : [[ 1]\n",
      " [ 2]\n",
      " [ 3]\n",
      " [ 4]\n",
      " [ 5]\n",
      " [ 6]\n",
      " [ 7]\n",
      " [ 8]\n",
      " [ 9]\n",
      " [10]]\n",
      "x.shape : (10, 1)\n"
     ]
    }
   ],
   "source": [
    "reg = LinearRegression()\n",
    "\n",
    "# (행, 열) - 1열로 변환\n",
    "x = np.array(x).reshape(-1,1)\n",
    "\n",
    "print(f\"학습데이터 확인\\nx : {x}\\nx.shape : {x.shape}\")"
   ]
  },
  {
   "cell_type": "code",
   "execution_count": null,
   "metadata": {},
   "outputs": [
    {
     "name": "stdout",
     "output_type": "stream",
     "text": [
      "기울기 및 절편 확인 coef = [4.], intercept = 7.000000000000011\n",
      "계산결과\n",
      "[[11.]\n",
      " [15.]\n",
      " [19.]\n",
      " [23.]\n",
      " [27.]\n",
      " [31.]\n",
      " [35.]\n",
      " [39.]\n",
      " [43.]\n",
      " [47.]]\n"
     ]
    }
   ],
   "source": [
    "reg.fit(x,y)\n",
    "\n",
    "print(f'''기울기 및 절편 확인 coef = {reg.coef_}, intercept = {reg.intercept_}''')\n",
    "\n",
    "coef_intercept = x * reg.coef_[0] + reg.intercept_\n",
    "print(f\"계산결과\\n{coef_intercept}\")\n",
    "# coef_ -> coeffecient 계수 즉 기울기\n",
    "# intercept -> 절편 or Bais"
   ]
  },
  {
   "cell_type": "code",
   "execution_count": 8,
   "metadata": {},
   "outputs": [
    {
     "data": {
      "image/png": "[encoded data removed]",
      "text/plain": [
       "<Figure size 640x480 with 1 Axes>"
      ]
     },
     "metadata": {},
     "output_type": "display_data"
    }
   ],
   "source": [
    "plt.scatter(x,y, color = 'r', s = 20)\n",
    "plt.plot(x, coef_intercept,color = 'orange')\n",
    "plt.text(7,20,'coef = %.0f'%reg.coef_[0], size = 12)\n",
    "plt.text(7,18,'coef = %.0f'%reg.intercept_, size = 12)\n",
    "\n",
    "plt.xlabel('x')\n",
    "plt.ylabel('y')\n",
    "plt.show()"
   ]
  },
  {
   "cell_type": "code",
   "execution_count": 69,
   "metadata": {},
   "outputs": [
    {
     "data": {
      "text/html": [
       "<div>\n",
       "<style scoped>\n",
       "    .dataframe tbody tr th:only-of-type {\n",
       "        vertical-align: middle;\n",
       "    }\n",
       "\n",
       "    .dataframe tbody tr th {\n",
       "        vertical-align: top;\n",
       "    }\n",
       "\n",
       "    .dataframe thead th {\n",
       "        text-align: right;\n",
       "    }\n",
       "</style>\n",
       "<table border=\"1\" class=\"dataframe\">\n",
       "  <thead>\n",
       "    <tr style=\"text-align: right;\">\n",
       "      <th></th>\n",
       "      <th>기준년도</th>\n",
       "      <th>가입자일련번호</th>\n",
       "      <th>시도코드</th>\n",
       "      <th>성별</th>\n",
       "      <th>연령대코드(5세단위)</th>\n",
       "      <th>신장(5cm단위)</th>\n",
       "      <th>체중(5kg단위)</th>\n",
       "      <th>허리둘레</th>\n",
       "      <th>시력(좌)</th>\n",
       "      <th>시력(우)</th>\n",
       "      <th>청력(좌)</th>\n",
       "      <th>청력(우)</th>\n",
       "      <th>수축기혈압</th>\n",
       "      <th>이완기혈압</th>\n",
       "      <th>식전혈당(공복혈당)</th>\n",
       "      <th>총콜레스테롤</th>\n",
       "      <th>트리글리세라이드</th>\n",
       "      <th>HDL콜레스테롤</th>\n",
       "      <th>LDL콜레스테롤</th>\n",
       "      <th>혈색소</th>\n",
       "      <th>요단백</th>\n",
       "      <th>혈청크레아티닌</th>\n",
       "      <th>혈청지오티(AST)</th>\n",
       "      <th>혈청지피티(ALT)</th>\n",
       "      <th>감마지티피</th>\n",
       "      <th>흡연상태</th>\n",
       "      <th>음주여부</th>\n",
       "      <th>구강검진수검여부</th>\n",
       "      <th>치아우식증유무</th>\n",
       "      <th>치석</th>\n",
       "    </tr>\n",
       "  </thead>\n",
       "  <tbody>\n",
       "    <tr>\n",
       "      <th>0</th>\n",
       "      <td>2020</td>\n",
       "      <td>2250657</td>\n",
       "      <td>41</td>\n",
       "      <td>2</td>\n",
       "      <td>13</td>\n",
       "      <td>160</td>\n",
       "      <td>55</td>\n",
       "      <td>76.0</td>\n",
       "      <td>1.0</td>\n",
       "      <td>1.0</td>\n",
       "      <td>1.0</td>\n",
       "      <td>1.0</td>\n",
       "      <td>130.0</td>\n",
       "      <td>82.0</td>\n",
       "      <td>98.0</td>\n",
       "      <td>NaN</td>\n",
       "      <td>NaN</td>\n",
       "      <td>NaN</td>\n",
       "      <td>NaN</td>\n",
       "      <td>13.4</td>\n",
       "      <td>1.0</td>\n",
       "      <td>0.8</td>\n",
       "      <td>46.0</td>\n",
       "      <td>77.0</td>\n",
       "      <td>62.0</td>\n",
       "      <td>1.0</td>\n",
       "      <td>0.0</td>\n",
       "      <td>0</td>\n",
       "      <td>NaN</td>\n",
       "      <td>NaN</td>\n",
       "    </tr>\n",
       "    <tr>\n",
       "      <th>1</th>\n",
       "      <td>2020</td>\n",
       "      <td>4699612</td>\n",
       "      <td>41</td>\n",
       "      <td>2</td>\n",
       "      <td>10</td>\n",
       "      <td>160</td>\n",
       "      <td>55</td>\n",
       "      <td>83.0</td>\n",
       "      <td>1.0</td>\n",
       "      <td>1.0</td>\n",
       "      <td>1.0</td>\n",
       "      <td>1.0</td>\n",
       "      <td>130.0</td>\n",
       "      <td>80.0</td>\n",
       "      <td>98.0</td>\n",
       "      <td>NaN</td>\n",
       "      <td>NaN</td>\n",
       "      <td>NaN</td>\n",
       "      <td>NaN</td>\n",
       "      <td>10.8</td>\n",
       "      <td>1.0</td>\n",
       "      <td>0.8</td>\n",
       "      <td>24.0</td>\n",
       "      <td>19.0</td>\n",
       "      <td>21.0</td>\n",
       "      <td>1.0</td>\n",
       "      <td>1.0</td>\n",
       "      <td>0</td>\n",
       "      <td>NaN</td>\n",
       "      <td>NaN</td>\n",
       "    </tr>\n",
       "    <tr>\n",
       "      <th>2</th>\n",
       "      <td>2020</td>\n",
       "      <td>4734684</td>\n",
       "      <td>41</td>\n",
       "      <td>1</td>\n",
       "      <td>9</td>\n",
       "      <td>180</td>\n",
       "      <td>100</td>\n",
       "      <td>101.5</td>\n",
       "      <td>1.0</td>\n",
       "      <td>1.0</td>\n",
       "      <td>1.0</td>\n",
       "      <td>1.0</td>\n",
       "      <td>130.0</td>\n",
       "      <td>90.0</td>\n",
       "      <td>103.0</td>\n",
       "      <td>NaN</td>\n",
       "      <td>NaN</td>\n",
       "      <td>NaN</td>\n",
       "      <td>NaN</td>\n",
       "      <td>14.7</td>\n",
       "      <td>1.0</td>\n",
       "      <td>0.8</td>\n",
       "      <td>23.0</td>\n",
       "      <td>21.0</td>\n",
       "      <td>23.0</td>\n",
       "      <td>1.0</td>\n",
       "      <td>1.0</td>\n",
       "      <td>0</td>\n",
       "      <td>NaN</td>\n",
       "      <td>NaN</td>\n",
       "    </tr>\n",
       "    <tr>\n",
       "      <th>3</th>\n",
       "      <td>2020</td>\n",
       "      <td>4450131</td>\n",
       "      <td>41</td>\n",
       "      <td>2</td>\n",
       "      <td>11</td>\n",
       "      <td>155</td>\n",
       "      <td>60</td>\n",
       "      <td>82.0</td>\n",
       "      <td>1.0</td>\n",
       "      <td>1.0</td>\n",
       "      <td>1.0</td>\n",
       "      <td>1.0</td>\n",
       "      <td>149.0</td>\n",
       "      <td>90.0</td>\n",
       "      <td>84.0</td>\n",
       "      <td>NaN</td>\n",
       "      <td>NaN</td>\n",
       "      <td>NaN</td>\n",
       "      <td>NaN</td>\n",
       "      <td>13.6</td>\n",
       "      <td>1.0</td>\n",
       "      <td>0.8</td>\n",
       "      <td>29.0</td>\n",
       "      <td>27.0</td>\n",
       "      <td>18.0</td>\n",
       "      <td>1.0</td>\n",
       "      <td>1.0</td>\n",
       "      <td>0</td>\n",
       "      <td>NaN</td>\n",
       "      <td>NaN</td>\n",
       "    </tr>\n",
       "    <tr>\n",
       "      <th>4</th>\n",
       "      <td>2020</td>\n",
       "      <td>1337937</td>\n",
       "      <td>41</td>\n",
       "      <td>2</td>\n",
       "      <td>10</td>\n",
       "      <td>155</td>\n",
       "      <td>50</td>\n",
       "      <td>73.0</td>\n",
       "      <td>1.0</td>\n",
       "      <td>1.0</td>\n",
       "      <td>1.0</td>\n",
       "      <td>1.0</td>\n",
       "      <td>129.0</td>\n",
       "      <td>80.0</td>\n",
       "      <td>104.0</td>\n",
       "      <td>NaN</td>\n",
       "      <td>NaN</td>\n",
       "      <td>NaN</td>\n",
       "      <td>NaN</td>\n",
       "      <td>11.8</td>\n",
       "      <td>1.0</td>\n",
       "      <td>0.8</td>\n",
       "      <td>32.0</td>\n",
       "      <td>33.0</td>\n",
       "      <td>11.0</td>\n",
       "      <td>1.0</td>\n",
       "      <td>0.0</td>\n",
       "      <td>0</td>\n",
       "      <td>NaN</td>\n",
       "      <td>NaN</td>\n",
       "    </tr>\n",
       "  </tbody>\n",
       "</table>\n",
       "</div>"
      ],
      "text/plain": [
       "   기준년도  가입자일련번호  시도코드  성별  연령대코드(5세단위)  신장(5cm단위)  체중(5kg단위)   허리둘레  시력(좌)  \\\n",
       "0  2020  2250657    41   2           13        160         55   76.0    1.0   \n",
       "1  2020  4699612    41   2           10        160         55   83.0    1.0   \n",
       "2  2020  4734684    41   1            9        180        100  101.5    1.0   \n",
       "3  2020  4450131    41   2           11        155         60   82.0    1.0   \n",
       "4  2020  1337937    41   2           10        155         50   73.0    1.0   \n",
       "\n",
       "   시력(우)  청력(좌)  청력(우)  수축기혈압  이완기혈압  식전혈당(공복혈당)  총콜레스테롤  트리글리세라이드  HDL콜레스테롤  \\\n",
       "0    1.0    1.0    1.0  130.0   82.0        98.0     NaN       NaN       NaN   \n",
       "1    1.0    1.0    1.0  130.0   80.0        98.0     NaN       NaN       NaN   \n",
       "2    1.0    1.0    1.0  130.0   90.0       103.0     NaN       NaN       NaN   \n",
       "3    1.0    1.0    1.0  149.0   90.0        84.0     NaN       NaN       NaN   \n",
       "4    1.0    1.0    1.0  129.0   80.0       104.0     NaN       NaN       NaN   \n",
       "\n",
       "   LDL콜레스테롤   혈색소  요단백  혈청크레아티닌  혈청지오티(AST)  혈청지피티(ALT)  감마지티피  흡연상태  음주여부  \\\n",
       "0       NaN  13.4  1.0      0.8        46.0        77.0   62.0   1.0   0.0   \n",
       "1       NaN  10.8  1.0      0.8        24.0        19.0   21.0   1.0   1.0   \n",
       "2       NaN  14.7  1.0      0.8        23.0        21.0   23.0   1.0   1.0   \n",
       "3       NaN  13.6  1.0      0.8        29.0        27.0   18.0   1.0   1.0   \n",
       "4       NaN  11.8  1.0      0.8        32.0        33.0   11.0   1.0   0.0   \n",
       "\n",
       "   구강검진수검여부  치아우식증유무  치석  \n",
       "0         0      NaN NaN  \n",
       "1         0      NaN NaN  \n",
       "2         0      NaN NaN  \n",
       "3         0      NaN NaN  \n",
       "4         0      NaN NaN  "
      ]
     },
     "execution_count": 69,
     "metadata": {},
     "output_type": "execute_result"
    }
   ],
   "source": [
    "df = pd.read_csv(\"./data/국민건강보험공단_건강검진정보_20201231_수정.CSV\", encoding=\"cp949\")\n",
    "pd.set_option('display.max_columns',None) # 디스플레이 옵션을 통한 전체 열 확장\n",
    "df.head()"
   ]
  },
  {
   "cell_type": "code",
   "execution_count": 70,
   "metadata": {},
   "outputs": [
    {
     "name": "stdout",
     "output_type": "stream",
     "text": [
      "['기준년도', '가입자일련번호', '시도코드', '성별', '연령대코드(5세단위)', '신장(5cm단위)', '체중(5kg단위)', '허리둘레', '시력(좌)', '시력(우)', '청력(좌)', '청력(우)', '수축기혈압', '이완기혈압', '식전혈당(공복혈당)', '총콜레스테롤', '트리글리세라이드', 'HDL콜레스테롤', 'LDL콜레스테롤', '혈색소', '요단백', '혈청크레아티닌', '혈청지오티(AST)', '혈청지피티(ALT)', '감마지티피', '흡연상태', '음주여부', '구강검진수검여부', '치아우식증유무', '치석']\n"
     ]
    }
   ],
   "source": [
    "print([x for x in df.columns])"
   ]
  },
  {
   "cell_type": "code",
   "execution_count": 71,
   "metadata": {},
   "outputs": [
    {
     "name": "stdout",
     "output_type": "stream",
     "text": [
      "기준 칼럼 확인\n"
     ]
    },
    {
     "data": {
      "text/plain": [
       "기준년도\n",
       "2020    1000000\n",
       "Name: count, dtype: int64"
      ]
     },
     "execution_count": 71,
     "metadata": {},
     "output_type": "execute_result"
    }
   ],
   "source": [
    "df.drop(['시력(좌)', '시력(우)', '청력(좌)', '청력(우)', '구강검진수검여부','치석', '치아우식증유무'],axis=1,inplace=True)\n",
    "\n",
    "print(\"기준 칼럼 확인\")\n",
    "df.기준년도.value_counts()"
   ]
  },
  {
   "cell_type": "code",
   "execution_count": 72,
   "metadata": {},
   "outputs": [
    {
     "data": {
      "text/plain": [
       "가입자일련번호\n",
       "2250657    1\n",
       "3955841    1\n",
       "3681129    1\n",
       "4152992    1\n",
       "792807     1\n",
       "          ..\n",
       "4433529    1\n",
       "3932138    1\n",
       "4990754    1\n",
       "854014     1\n",
       "3937733    1\n",
       "Name: count, Length: 1000000, dtype: int64"
      ]
     },
     "execution_count": 72,
     "metadata": {},
     "output_type": "execute_result"
    }
   ],
   "source": [
    "df[\"가입자일련번호\"].value_counts()"
   ]
  },
  {
   "cell_type": "code",
   "execution_count": 75,
   "metadata": {},
   "outputs": [],
   "source": [
    "df.drop([\"가입자일련번호\",\"기준년도\",\"시도코드\"],axis=1,inplace=True)\n"
   ]
  },
  {
   "cell_type": "code",
   "execution_count": 76,
   "metadata": {},
   "outputs": [
    {
     "data": {
      "text/html": [
       "<div>\n",
       "<style scoped>\n",
       "    .dataframe tbody tr th:only-of-type {\n",
       "        vertical-align: middle;\n",
       "    }\n",
       "\n",
       "    .dataframe tbody tr th {\n",
       "        vertical-align: top;\n",
       "    }\n",
       "\n",
       "    .dataframe thead th {\n",
       "        text-align: right;\n",
       "    }\n",
       "</style>\n",
       "<table border=\"1\" class=\"dataframe\">\n",
       "  <thead>\n",
       "    <tr style=\"text-align: right;\">\n",
       "      <th></th>\n",
       "      <th>성별</th>\n",
       "      <th>연령대코드(5세단위)</th>\n",
       "      <th>신장(5cm단위)</th>\n",
       "      <th>체중(5kg단위)</th>\n",
       "      <th>허리둘레</th>\n",
       "      <th>수축기혈압</th>\n",
       "      <th>이완기혈압</th>\n",
       "      <th>식전혈당(공복혈당)</th>\n",
       "      <th>총콜레스테롤</th>\n",
       "      <th>트리글리세라이드</th>\n",
       "      <th>HDL콜레스테롤</th>\n",
       "      <th>LDL콜레스테롤</th>\n",
       "      <th>혈색소</th>\n",
       "      <th>요단백</th>\n",
       "      <th>혈청크레아티닌</th>\n",
       "      <th>혈청지오티(AST)</th>\n",
       "      <th>혈청지피티(ALT)</th>\n",
       "      <th>감마지티피</th>\n",
       "      <th>흡연상태</th>\n",
       "      <th>음주여부</th>\n",
       "    </tr>\n",
       "  </thead>\n",
       "  <tbody>\n",
       "    <tr>\n",
       "      <th>668672</th>\n",
       "      <td>1</td>\n",
       "      <td>9</td>\n",
       "      <td>175</td>\n",
       "      <td>65</td>\n",
       "      <td>80.0</td>\n",
       "      <td>114.0</td>\n",
       "      <td>72.0</td>\n",
       "      <td>98.0</td>\n",
       "      <td>178.0</td>\n",
       "      <td>95.0</td>\n",
       "      <td>47.0</td>\n",
       "      <td>112.0</td>\n",
       "      <td>14.5</td>\n",
       "      <td>1.0</td>\n",
       "      <td>0.6</td>\n",
       "      <td>19.0</td>\n",
       "      <td>16.0</td>\n",
       "      <td>22.0</td>\n",
       "      <td>1.0</td>\n",
       "      <td>1.0</td>\n",
       "    </tr>\n",
       "    <tr>\n",
       "      <th>668673</th>\n",
       "      <td>1</td>\n",
       "      <td>11</td>\n",
       "      <td>180</td>\n",
       "      <td>70</td>\n",
       "      <td>80.0</td>\n",
       "      <td>122.0</td>\n",
       "      <td>83.0</td>\n",
       "      <td>89.0</td>\n",
       "      <td>212.0</td>\n",
       "      <td>77.0</td>\n",
       "      <td>52.0</td>\n",
       "      <td>144.0</td>\n",
       "      <td>14.4</td>\n",
       "      <td>1.0</td>\n",
       "      <td>0.7</td>\n",
       "      <td>16.0</td>\n",
       "      <td>17.0</td>\n",
       "      <td>23.0</td>\n",
       "      <td>3.0</td>\n",
       "      <td>0.0</td>\n",
       "    </tr>\n",
       "    <tr>\n",
       "      <th>668674</th>\n",
       "      <td>1</td>\n",
       "      <td>16</td>\n",
       "      <td>165</td>\n",
       "      <td>60</td>\n",
       "      <td>80.0</td>\n",
       "      <td>134.0</td>\n",
       "      <td>71.0</td>\n",
       "      <td>159.0</td>\n",
       "      <td>148.0</td>\n",
       "      <td>53.0</td>\n",
       "      <td>49.0</td>\n",
       "      <td>88.0</td>\n",
       "      <td>15.1</td>\n",
       "      <td>1.0</td>\n",
       "      <td>0.8</td>\n",
       "      <td>24.0</td>\n",
       "      <td>17.0</td>\n",
       "      <td>14.0</td>\n",
       "      <td>1.0</td>\n",
       "      <td>0.0</td>\n",
       "    </tr>\n",
       "    <tr>\n",
       "      <th>668676</th>\n",
       "      <td>1</td>\n",
       "      <td>6</td>\n",
       "      <td>170</td>\n",
       "      <td>70</td>\n",
       "      <td>80.0</td>\n",
       "      <td>120.0</td>\n",
       "      <td>80.0</td>\n",
       "      <td>99.0</td>\n",
       "      <td>204.0</td>\n",
       "      <td>68.0</td>\n",
       "      <td>40.0</td>\n",
       "      <td>150.0</td>\n",
       "      <td>16.0</td>\n",
       "      <td>1.0</td>\n",
       "      <td>0.9</td>\n",
       "      <td>26.0</td>\n",
       "      <td>17.0</td>\n",
       "      <td>37.0</td>\n",
       "      <td>1.0</td>\n",
       "      <td>0.0</td>\n",
       "    </tr>\n",
       "    <tr>\n",
       "      <th>668677</th>\n",
       "      <td>2</td>\n",
       "      <td>11</td>\n",
       "      <td>160</td>\n",
       "      <td>65</td>\n",
       "      <td>80.0</td>\n",
       "      <td>106.0</td>\n",
       "      <td>67.0</td>\n",
       "      <td>82.0</td>\n",
       "      <td>180.0</td>\n",
       "      <td>146.0</td>\n",
       "      <td>50.0</td>\n",
       "      <td>100.0</td>\n",
       "      <td>14.1</td>\n",
       "      <td>1.0</td>\n",
       "      <td>0.8</td>\n",
       "      <td>22.0</td>\n",
       "      <td>17.0</td>\n",
       "      <td>14.0</td>\n",
       "      <td>3.0</td>\n",
       "      <td>0.0</td>\n",
       "    </tr>\n",
       "  </tbody>\n",
       "</table>\n",
       "</div>"
      ],
      "text/plain": [
       "        성별  연령대코드(5세단위)  신장(5cm단위)  체중(5kg단위)  허리둘레  수축기혈압  이완기혈압  식전혈당(공복혈당)  \\\n",
       "668672   1            9        175         65  80.0  114.0   72.0        98.0   \n",
       "668673   1           11        180         70  80.0  122.0   83.0        89.0   \n",
       "668674   1           16        165         60  80.0  134.0   71.0       159.0   \n",
       "668676   1            6        170         70  80.0  120.0   80.0        99.0   \n",
       "668677   2           11        160         65  80.0  106.0   67.0        82.0   \n",
       "\n",
       "        총콜레스테롤  트리글리세라이드  HDL콜레스테롤  LDL콜레스테롤   혈색소  요단백  혈청크레아티닌  혈청지오티(AST)  \\\n",
       "668672   178.0      95.0      47.0     112.0  14.5  1.0      0.6        19.0   \n",
       "668673   212.0      77.0      52.0     144.0  14.4  1.0      0.7        16.0   \n",
       "668674   148.0      53.0      49.0      88.0  15.1  1.0      0.8        24.0   \n",
       "668676   204.0      68.0      40.0     150.0  16.0  1.0      0.9        26.0   \n",
       "668677   180.0     146.0      50.0     100.0  14.1  1.0      0.8        22.0   \n",
       "\n",
       "        혈청지피티(ALT)  감마지티피  흡연상태  음주여부  \n",
       "668672        16.0   22.0   1.0   1.0  \n",
       "668673        17.0   23.0   3.0   0.0  \n",
       "668674        17.0   14.0   1.0   0.0  \n",
       "668676        17.0   37.0   1.0   0.0  \n",
       "668677        17.0   14.0   3.0   0.0  "
      ]
     },
     "execution_count": 76,
     "metadata": {},
     "output_type": "execute_result"
    }
   ],
   "source": [
    "test = df[df['LDL콜레스테롤'].isnull()]\n",
    "\n",
    "train = df.dropna(axis=0)\n",
    "train.head()"
   ]
  },
  {
   "cell_type": "code",
   "execution_count": 77,
   "metadata": {},
   "outputs": [
    {
     "name": "stdout",
     "output_type": "stream",
     "text": [
      "(216008, 19) (106392, 19) (216008,) (106392,)\n"
     ]
    }
   ],
   "source": [
    "y = train['LDL콜레스테롤']\n",
    "x = train.drop('LDL콜레스테롤',axis=1)\n",
    "from sklearn.model_selection import train_test_split\n",
    "\n",
    "X_train,X_test,Y_train,Y_test = train_test_split(x,y,test_size=0.33, random_state=42)\n",
    "print(X_train.shape, X_test.shape, Y_train.shape, Y_test.shape)"
   ]
  },
  {
   "cell_type": "code",
   "execution_count": 79,
   "metadata": {},
   "outputs": [
    {
     "name": "stdout",
     "output_type": "stream",
     "text": [
      "[-1.52360278  0.03633774 -0.01721051  0.02787822  0.05975026 -0.00811572\n",
      " -0.01074764 -0.00354095  0.97010528 -0.17425623 -0.71322397  0.01556443\n",
      "  0.05473113  0.1705697  -0.01326392  0.01472044 -0.00898432  0.0158597\n",
      " -0.83445166] -13.080229825510528\n"
     ]
    }
   ],
   "source": [
    "reg = LinearRegression()\n",
    "reg.fit(X_train,Y_train)\n",
    "print(reg.coef_,reg.intercept_)"
   ]
  },
  {
   "cell_type": "code",
   "execution_count": 81,
   "metadata": {},
   "outputs": [
    {
     "name": "stdout",
     "output_type": "stream",
     "text": [
      "성별 = -1.5236027809887291\n",
      "연령대코드(5세단위) = 0.036337743250111534\n",
      "신장(5cm단위) = -0.017210508307703976\n",
      "체중(5kg단위) = 0.027878215637154636\n",
      "허리둘레 = 0.05975026222295466\n",
      "수축기혈압 = -0.008115715975756548\n",
      "이완기혈압 = -0.010747638156977822\n",
      "식전혈당(공복혈당) = -0.003540952607495285\n",
      "총콜레스테롤 = 0.9701052847302365\n",
      "트리글리세라이드 = -0.17425622701068522\n",
      "HDL콜레스테롤 = -0.7132239725024788\n",
      "혈색소 = 0.015564429078806782\n",
      "요단백 = 0.05473112558514198\n",
      "혈청크레아티닌 = 0.17056970028461288\n",
      "혈청지오티(AST) = -0.013263919572050474\n",
      "혈청지피티(ALT) = 0.014720443173095048\n",
      "감마지티피 = -0.008984323575023904\n",
      "흡연상태 = 0.015859703298501025\n",
      "음주여부 = -0.8344516607419529\n"
     ]
    }
   ],
   "source": [
    "# 가중치 확인\n",
    "for index, columns in enumerate(X_train.columns):\n",
    "    print(f\"{columns} = {reg.coef_[index]}\")"
   ]
  },
  {
   "cell_type": "code",
   "execution_count": 82,
   "metadata": {},
   "outputs": [
    {
     "name": "stdout",
     "output_type": "stream",
     "text": [
      "7.652906534238601\n"
     ]
    }
   ],
   "source": [
    "y_pred = reg.predict(X_test)\n",
    "\n",
    "from sklearn.metrics import mean_squared_error\n",
    "\n",
    "rmse = mean_squared_error(Y_test,y_pred,squared=False)\n",
    "\n",
    "print(rmse)"
   ]
  },
  {
   "cell_type": "code",
   "execution_count": 83,
   "metadata": {},
   "outputs": [
    {
     "data": {
      "text/plain": [
       "Index(['성별', '연령대코드(5세단위)', '신장(5cm단위)', '체중(5kg단위)', '허리둘레', '수축기혈압', '이완기혈압',\n",
       "       '식전혈당(공복혈당)', '총콜레스테롤', '트리글리세라이드', 'HDL콜레스테롤', 'LDL콜레스테롤', '혈색소',\n",
       "       '요단백', '혈청크레아티닌', '혈청지오티(AST)', '혈청지피티(ALT)', '감마지티피', '흡연상태', '음주여부'],\n",
       "      dtype='object')"
      ]
     },
     "execution_count": 83,
     "metadata": {},
     "output_type": "execute_result"
    }
   ],
   "source": [
    "train.columns"
   ]
  },
  {
   "cell_type": "code",
   "execution_count": 84,
   "metadata": {},
   "outputs": [
    {
     "name": "stdout",
     "output_type": "stream",
     "text": [
      "[ 1.31954626e+01 -7.67846864e-01 -8.49630231e-02  1.20075698e-01\n",
      " -8.39032256e-02 -1.64323010e-01  3.22743292e-01 -1.30327191e-01\n",
      "  4.48529407e+00 -1.34011728e+00  1.28461437e+00 -9.34352025e-02\n",
      "  8.41508394e-02 -1.04691943e-02 -1.20878611e+00  7.23229615e-01]\n",
      "65.82002185145366\n"
     ]
    }
   ],
   "source": [
    "x = x.drop(['총콜레스테롤','트리글리세라이드', 'HDL콜레스테롤'],axis=1)\n",
    "\n",
    "X_train, X_test, Y_train, Y_test = train_test_split(x,y,test_size=0.33,random_state=42)\n",
    "\n",
    "lr = LinearRegression()\n",
    "lr.fit(X_train, Y_train)\n",
    "\n",
    "print(lr.coef_)\n",
    "print(lr.intercept_)"
   ]
  },
  {
   "cell_type": "code",
   "execution_count": 85,
   "metadata": {},
   "outputs": [],
   "source": [
    "y_pred = lr.predict(X_test)"
   ]
  },
  {
   "cell_type": "code",
   "execution_count": 87,
   "metadata": {},
   "outputs": [
    {
     "name": "stdout",
     "output_type": "stream",
     "text": [
      "성별 = -1.5236027809887291\n",
      "연령대코드(5세단위) = 0.036337743250111534\n",
      "신장(5cm단위) = -0.017210508307703976\n",
      "체중(5kg단위) = 0.027878215637154636\n",
      "허리둘레 = 0.05975026222295466\n",
      "수축기혈압 = -0.008115715975756548\n",
      "이완기혈압 = -0.010747638156977822\n",
      "식전혈당(공복혈당) = -0.003540952607495285\n",
      "혈색소 = 0.9701052847302365\n",
      "요단백 = -0.17425622701068522\n",
      "혈청크레아티닌 = -0.7132239725024788\n",
      "혈청지오티(AST) = 0.015564429078806782\n",
      "혈청지피티(ALT) = 0.05473112558514198\n",
      "감마지티피 = 0.17056970028461288\n",
      "흡연상태 = -0.013263919572050474\n",
      "음주여부 = 0.014720443173095048\n"
     ]
    }
   ],
   "source": [
    "for index, column in enumerate(X_train.columns):\n",
    "    print(column,'=',reg.coef_[index])"
   ]
  },
  {
   "cell_type": "code",
   "execution_count": 90,
   "metadata": {},
   "outputs": [
    {
     "name": "stdout",
     "output_type": "stream",
     "text": [
      "7.653\n",
      "38.011\n"
     ]
    }
   ],
   "source": [
    "rsme_2 = mean_squared_error(Y_test,y_pred,squared=False)\n",
    "print(round(rmse,3))\n",
    "print(round(rsme_2,3))"
   ]
  },
  {
   "cell_type": "markdown",
   "metadata": {},
   "source": [
    "##### 로지스틱 회귀 알고리즘\n",
    "- sigmoid\n",
    "$$\n",
    "S(x) = \\frac{1}{1+e^{-x}} = \\frac{e^x}{e^x + 1}\n",
    "$$"
   ]
  },
  {
   "cell_type": "code",
   "execution_count": 95,
   "metadata": {},
   "outputs": [
    {
     "name": "stdout",
     "output_type": "stream",
     "text": [
      "[0.26894142 0.5        0.73105858]\n"
     ]
    }
   ],
   "source": [
    "# sigmoid 함수\n",
    "def sigmoid(x):\n",
    "    return 1/(1+np.exp(-x))\n",
    "test = np.array([-1,0,1])\n",
    "print(sigmoid(test))"
   ]
  },
  {
   "cell_type": "code",
   "execution_count": 100,
   "metadata": {},
   "outputs": [
    {
     "data": {
      "image/png": "[encoded data removed]",
      "text/plain": [
       "<Figure size 640x480 with 1 Axes>"
      ]
     },
     "metadata": {},
     "output_type": "display_data"
    }
   ],
   "source": [
    "sigmoid_x = range(-6,7)\n",
    "sigmoid_y = sigmoid(np.array(sigmoid_x))\n",
    "plt.figure()\n",
    "plt.plot(sigmoid_x,sigmoid_y,color = 'blue', linewidth = 0.5)\n",
    "plt.rcParams['axes.grid'] = True\n",
    "plt.axvline(x = 0, color = 'black', linewidth = 3)\n",
    "plt.yticks([0,0.5,1])\n",
    "plt.show()"
   ]
  },
  {
   "cell_type": "code",
   "execution_count": 31,
   "metadata": {},
   "outputs": [],
   "source": [
    "import numpy as np\n",
    "import pandas as pd\n",
    "from sklearn.linear_model import LogisticRegression\n",
    "from sklearn.model_selection import train_test_split\n",
    "import matplotlib.pyplot as plt\n",
    "\n",
    "def sigmoid(x):\n",
    "    return 1/(1 + np.exp(-x))"
   ]
  },
  {
   "cell_type": "code",
   "execution_count": 26,
   "metadata": {},
   "outputs": [
    {
     "data": {
      "text/plain": [
       "15"
      ]
     },
     "execution_count": 26,
     "metadata": {},
     "output_type": "execute_result"
    }
   ],
   "source": [
    "x_train = np.array(range(3,18))\n",
    "y_train = [0,0,0,0,0,0,0,1,1,1,1,1,1,1,1]\n",
    "len(x_train)\n",
    "len(y_train)"
   ]
  },
  {
   "cell_type": "code",
   "execution_count": 27,
   "metadata": {},
   "outputs": [],
   "source": [
    "x_test = [0,1,2,18,19]\n",
    "y_test = [0,0,0,1,1]\n",
    "\n",
    "x_train = np.array(x_train).reshape([-1,1])\n",
    "y_train = np.array(y_train)\n",
    "\n",
    "x_test = np.array(x_test).reshape([-1,1])\n",
    "y_test = np.array(y_test)\n"
   ]
  },
  {
   "cell_type": "code",
   "execution_count": 28,
   "metadata": {},
   "outputs": [
    {
     "name": "stdout",
     "output_type": "stream",
     "text": [
      "[[1.19383367]] [-11.34126808]\n"
     ]
    }
   ],
   "source": [
    "log_reg = LogisticRegression()\n",
    "log_reg.fit(x_train,y_train)\n",
    "print(log_reg.coef_,log_reg.intercept_)"
   ]
  },
  {
   "cell_type": "code",
   "execution_count": 33,
   "metadata": {},
   "outputs": [
    {
     "data": {
      "image/png": "[encoded data removed]",
      "text/plain": [
       "<Figure size 640x480 with 1 Axes>"
      ]
     },
     "metadata": {},
     "output_type": "display_data"
    }
   ],
   "source": [
    "odd = []\n",
    "for i in x_train:\n",
    "    odd.append(log_reg.coef_*i + log_reg.intercept_)\n",
    "\n",
    "sigmoid_y = sigmoid(np.array(odd))\n",
    "sigmoid_y = sigmoid_y.reshape(-1,1)\n",
    "\n",
    "plt.scatter(x_train, y_train,color = 'red')\n",
    "plt.plot(np.array(x_train),sigmoid_y, color = 'blue')\n",
    "plt.rcParams['axes.grid'] = True\n",
    "plt.yticks([0,0.5,1])\n",
    "\n",
    "plt.ylim([-0.1,1.1])\n",
    "plt.show()"
   ]
  },
  {
   "cell_type": "code",
   "execution_count": 34,
   "metadata": {},
   "outputs": [
    {
     "name": "stdout",
     "output_type": "stream",
     "text": [
      "[0.1] -0.4666666666666669\n"
     ]
    }
   ],
   "source": [
    "lr = LinearRegression()\n",
    "lr.fit(x_train,y_train)\n",
    "print(lr.coef_,lr.intercept_)\n"
   ]
  },
  {
   "cell_type": "code",
   "execution_count": 36,
   "metadata": {},
   "outputs": [
    {
     "data": {
      "image/png": "[encoded data removed]",
      "text/plain": [
       "<Figure size 640x480 with 1 Axes>"
      ]
     },
     "metadata": {},
     "output_type": "display_data"
    }
   ],
   "source": [
    "coef_intercept = x_train * lr.coef_ + lr.intercept_\n",
    "\n",
    "plt.scatter(x_train, y_train, color = 'red')\n",
    "plt.plot(np.array(x_train),coef_intercept, color = 'green')\n",
    "plt.plot(np.array(x_train), sigmoid_y, color = 'blue')\n",
    "plt.rcParams['axes.grid'] = True\n",
    "plt.show()"
   ]
  },
  {
   "cell_type": "code",
   "execution_count": 37,
   "metadata": {},
   "outputs": [
    {
     "name": "stdout",
     "output_type": "stream",
     "text": [
      "[1]\n",
      "[-0.46666667 -0.36666667 -0.26666667 -0.16666667 -0.06666667  0.03333333\n",
      "  0.13333333  0.23333333  0.33333333  0.43333333]\n"
     ]
    }
   ],
   "source": [
    "log_pred = log_reg.predict(np.array(9.5).reshape(-1,1))\n",
    "lr_pred = lr.predict(np.arange(9.5).reshape(-1,1))\n",
    "print(log_pred)\n",
    "print(lr_pred)"
   ]
  },
  {
   "cell_type": "code",
   "execution_count": 3,
   "metadata": {},
   "outputs": [
    {
     "data": {
      "text/plain": [
       "Index(['기준년도', '가입자일련번호', '시도코드', '성별', '연령대코드(5세단위)', '신장(5cm단위)',\n",
       "       '체중(5kg단위)', '허리둘레', '시력(좌)', '시력(우)', '청력(좌)', '청력(우)', '수축기혈압',\n",
       "       '이완기혈압', '식전혈당(공복혈당)', '총콜레스테롤', '트리글리세라이드', 'HDL콜레스테롤', 'LDL콜레스테롤',\n",
       "       '혈색소', '요단백', '혈청크레아티닌', '혈청지오티(AST)', '혈청지피티(ALT)', '감마지티피', '흡연상태',\n",
       "       '음주여부', '구강검진수검여부', '치아우식증유무', '치석'],\n",
       "      dtype='object')"
      ]
     },
     "execution_count": 3,
     "metadata": {},
     "output_type": "execute_result"
    }
   ],
   "source": [
    "df = pd.read_csv(\"./data/국민건강보험공단_건강검진정보_20201231_수정.CSV\",encoding = 'cp949')\n",
    "df.columns"
   ]
  },
  {
   "cell_type": "code",
   "execution_count": 4,
   "metadata": {},
   "outputs": [
    {
     "data": {
      "text/html": [
       "<div>\n",
       "<style scoped>\n",
       "    .dataframe tbody tr th:only-of-type {\n",
       "        vertical-align: middle;\n",
       "    }\n",
       "\n",
       "    .dataframe tbody tr th {\n",
       "        vertical-align: top;\n",
       "    }\n",
       "\n",
       "    .dataframe thead th {\n",
       "        text-align: right;\n",
       "    }\n",
       "</style>\n",
       "<table border=\"1\" class=\"dataframe\">\n",
       "  <thead>\n",
       "    <tr style=\"text-align: right;\">\n",
       "      <th></th>\n",
       "      <th>신장(5cm단위)</th>\n",
       "      <th>성별</th>\n",
       "      <th>체중(5kg단위)</th>\n",
       "      <th>음주여부</th>\n",
       "    </tr>\n",
       "  </thead>\n",
       "  <tbody>\n",
       "    <tr>\n",
       "      <th>0</th>\n",
       "      <td>160</td>\n",
       "      <td>2</td>\n",
       "      <td>55</td>\n",
       "      <td>0.0</td>\n",
       "    </tr>\n",
       "    <tr>\n",
       "      <th>1</th>\n",
       "      <td>160</td>\n",
       "      <td>2</td>\n",
       "      <td>55</td>\n",
       "      <td>1.0</td>\n",
       "    </tr>\n",
       "    <tr>\n",
       "      <th>2</th>\n",
       "      <td>180</td>\n",
       "      <td>1</td>\n",
       "      <td>100</td>\n",
       "      <td>1.0</td>\n",
       "    </tr>\n",
       "    <tr>\n",
       "      <th>3</th>\n",
       "      <td>155</td>\n",
       "      <td>2</td>\n",
       "      <td>60</td>\n",
       "      <td>1.0</td>\n",
       "    </tr>\n",
       "    <tr>\n",
       "      <th>4</th>\n",
       "      <td>155</td>\n",
       "      <td>2</td>\n",
       "      <td>50</td>\n",
       "      <td>0.0</td>\n",
       "    </tr>\n",
       "    <tr>\n",
       "      <th>5</th>\n",
       "      <td>160</td>\n",
       "      <td>2</td>\n",
       "      <td>50</td>\n",
       "      <td>1.0</td>\n",
       "    </tr>\n",
       "    <tr>\n",
       "      <th>6</th>\n",
       "      <td>165</td>\n",
       "      <td>1</td>\n",
       "      <td>80</td>\n",
       "      <td>1.0</td>\n",
       "    </tr>\n",
       "    <tr>\n",
       "      <th>7</th>\n",
       "      <td>150</td>\n",
       "      <td>2</td>\n",
       "      <td>45</td>\n",
       "      <td>1.0</td>\n",
       "    </tr>\n",
       "    <tr>\n",
       "      <th>8</th>\n",
       "      <td>160</td>\n",
       "      <td>2</td>\n",
       "      <td>60</td>\n",
       "      <td>0.0</td>\n",
       "    </tr>\n",
       "    <tr>\n",
       "      <th>9</th>\n",
       "      <td>155</td>\n",
       "      <td>2</td>\n",
       "      <td>65</td>\n",
       "      <td>0.0</td>\n",
       "    </tr>\n",
       "  </tbody>\n",
       "</table>\n",
       "</div>"
      ],
      "text/plain": [
       "   신장(5cm단위)  성별  체중(5kg단위)  음주여부\n",
       "0        160   2         55   0.0\n",
       "1        160   2         55   1.0\n",
       "2        180   1        100   1.0\n",
       "3        155   2         60   1.0\n",
       "4        155   2         50   0.0\n",
       "5        160   2         50   1.0\n",
       "6        165   1         80   1.0\n",
       "7        150   2         45   1.0\n",
       "8        160   2         60   0.0\n",
       "9        155   2         65   0.0"
      ]
     },
     "execution_count": 4,
     "metadata": {},
     "output_type": "execute_result"
    }
   ],
   "source": [
    "\n",
    "sample_df = df[['신장(5cm단위)','성별','체중(5kg단위)', '음주여부']]\n",
    "\n",
    "sample_df[:10]"
   ]
  },
  {
   "cell_type": "code",
   "execution_count": 5,
   "metadata": {},
   "outputs": [
    {
     "name": "stdout",
     "output_type": "stream",
     "text": [
      "<class 'pandas.core.frame.DataFrame'>\n",
      "RangeIndex: 1000000 entries, 0 to 999999\n",
      "Data columns (total 4 columns):\n",
      " #   Column     Non-Null Count    Dtype  \n",
      "---  ------     --------------    -----  \n",
      " 0   신장(5cm단위)  1000000 non-null  int64  \n",
      " 1   성별         1000000 non-null  int64  \n",
      " 2   체중(5kg단위)  1000000 non-null  int64  \n",
      " 3   음주여부       999860 non-null   float64\n",
      "dtypes: float64(1), int64(3)\n",
      "memory usage: 30.5 MB\n"
     ]
    }
   ],
   "source": [
    "sample_df.info()"
   ]
  },
  {
   "cell_type": "code",
   "execution_count": 6,
   "metadata": {},
   "outputs": [
    {
     "name": "stdout",
     "output_type": "stream",
     "text": [
      "<class 'pandas.core.frame.DataFrame'>\n",
      "Index: 999860 entries, 0 to 999999\n",
      "Data columns (total 4 columns):\n",
      " #   Column     Non-Null Count   Dtype  \n",
      "---  ------     --------------   -----  \n",
      " 0   신장(5cm단위)  999860 non-null  int64  \n",
      " 1   성별         999860 non-null  int64  \n",
      " 2   체중(5kg단위)  999860 non-null  int64  \n",
      " 3   음주여부       999860 non-null  float64\n",
      "dtypes: float64(1), int64(3)\n",
      "memory usage: 38.1 MB\n"
     ]
    }
   ],
   "source": [
    "sample = sample_df.dropna()\n",
    "sample.info()"
   ]
  },
  {
   "cell_type": "code",
   "execution_count": 7,
   "metadata": {},
   "outputs": [
    {
     "data": {
      "text/plain": [
       "음주여부\n",
       "1.0    650181\n",
       "0.0    349679\n",
       "Name: count, dtype: int64"
      ]
     },
     "execution_count": 7,
     "metadata": {},
     "output_type": "execute_result"
    }
   ],
   "source": [
    "sample = sample.astype('str')\n",
    "y = sample[\"음주여부\"]\n",
    "x= sample.drop('음주여부',axis=1)\n",
    "y.value_counts()"
   ]
  },
  {
   "cell_type": "code",
   "execution_count": 12,
   "metadata": {},
   "outputs": [
    {
     "name": "stdout",
     "output_type": "stream",
     "text": [
      "0.697857700078011\n",
      "0.6973876342687977\n"
     ]
    }
   ],
   "source": [
    "from sklearn.model_selection import train_test_split\n",
    "x_train,x_valid,y_train,y_valid = train_test_split(x,y,test_size=0.2,shuffle=True,random_state=34)\n",
    "from sklearn.tree import DecisionTreeClassifier\n",
    "dt = DecisionTreeClassifier(random_state=1001, max_depth=2)\n",
    "\n",
    "dt_model = dt.fit(x_train, y_train)\n",
    "\n",
    "print(dt_model.score(x_train,y_train))\n",
    "print(dt_model.score(x_valid,y_valid))"
   ]
  },
  {
   "cell_type": "code",
   "execution_count": 46,
   "metadata": {},
   "outputs": [
    {
     "name": "stdout",
     "output_type": "stream",
     "text": [
      "Defaulting to user installation because normal site-packages is not writeable\n",
      "Collecting graphviz\n",
      "  Downloading graphviz-0.20.3-py3-none-any.whl.metadata (12 kB)\n",
      "Downloading graphviz-0.20.3-py3-none-any.whl (47 kB)\n",
      "   ---------------------------------------- 0.0/47.1 kB ? eta -:--:--\n",
      "   ----------------- ---------------------- 20.5/47.1 kB 640.0 kB/s eta 0:00:01\n",
      "   ---------------------------------------- 47.1/47.1 kB 784.8 kB/s eta 0:00:00\n",
      "Installing collected packages: graphviz\n",
      "Successfully installed graphviz-0.20.3\n"
     ]
    }
   ],
   "source": [
    "!pip install graphviz"
   ]
  },
  {
   "cell_type": "code",
   "execution_count": 13,
   "metadata": {},
   "outputs": [
    {
     "data": {
      "image/svg+xml": [
       "<?xml version=\"1.0\" encoding=\"UTF-8\" standalone=\"no\"?>\n",
       "<!DOCTYPE svg PUBLIC \"-//W3C//DTD SVG 1.1//EN\"\n",
       " \"http://www.w3.org/Graphics/SVG/1.1/DTD/svg11.dtd\">\n",
       "<!-- Generated by graphviz version 12.2.0 (20241103.1931)\n",
       " -->\n",
       "<!-- Title: Tree Pages: 1 -->\n",
       "<svg width=\"698pt\" height=\"277pt\"\n",
       " viewBox=\"0.00 0.00 697.75 277.25\" xmlns=\"http://www.w3.org/2000/svg\" xmlns:xlink=\"http://www.w3.org/1999/xlink\">\n",
       "<g id=\"graph0\" class=\"graph\" transform=\"scale(1 1) rotate(0) translate(4 273.25)\">\n",
       "<title>Tree</title>\n",
       "<polygon fill=\"white\" stroke=\"none\" points=\"-4,4 -4,-273.25 693.75,-273.25 693.75,4 -4,4\"/>\n",
       "<!-- 0 -->\n",
       "<g id=\"node1\" class=\"node\">\n",
       "<title>0</title>\n",
       "<polygon fill=\"#a4d2f3\" stroke=\"black\" points=\"423.5,-269.25 254.5,-269.25 254.5,-198.25 423.5,-198.25 423.5,-269.25\"/>\n",
       "<text text-anchor=\"middle\" x=\"339\" y=\"-251.95\" font-family=\"Helvetica,sans-Serif\" font-size=\"14.00\">height &lt;= 157.5</text>\n",
       "<text text-anchor=\"middle\" x=\"339\" y=\"-236.2\" font-family=\"Helvetica,sans-Serif\" font-size=\"14.00\">gini = 0.455</text>\n",
       "<text text-anchor=\"middle\" x=\"339\" y=\"-220.45\" font-family=\"Helvetica,sans-Serif\" font-size=\"14.00\">samples = 799888</text>\n",
       "<text text-anchor=\"middle\" x=\"339\" y=\"-204.7\" font-family=\"Helvetica,sans-Serif\" font-size=\"14.00\">value = [279821, 520067]</text>\n",
       "</g>\n",
       "<!-- 1 -->\n",
       "<g id=\"node2\" class=\"node\">\n",
       "<title>1</title>\n",
       "<polygon fill=\"#f9e2d2\" stroke=\"black\" points=\"330.12,-162.25 161.88,-162.25 161.88,-91.25 330.12,-91.25 330.12,-162.25\"/>\n",
       "<text text-anchor=\"middle\" x=\"246\" y=\"-144.95\" font-family=\"Helvetica,sans-Serif\" font-size=\"14.00\">height &lt;= 152.5</text>\n",
       "<text text-anchor=\"middle\" x=\"246\" y=\"-129.2\" font-family=\"Helvetica,sans-Serif\" font-size=\"14.00\">gini = 0.492</text>\n",
       "<text text-anchor=\"middle\" x=\"246\" y=\"-113.45\" font-family=\"Helvetica,sans-Serif\" font-size=\"14.00\">samples = 252958</text>\n",
       "<text text-anchor=\"middle\" x=\"246\" y=\"-97.7\" font-family=\"Helvetica,sans-Serif\" font-size=\"14.00\">value = [142673, 110285]</text>\n",
       "</g>\n",
       "<!-- 0&#45;&gt;1 -->\n",
       "<g id=\"edge1\" class=\"edge\">\n",
       "<title>0&#45;&gt;1</title>\n",
       "<path fill=\"none\" stroke=\"black\" d=\"M308.03,-197.79C300.42,-189.2 292.19,-179.9 284.28,-170.97\"/>\n",
       "<polygon fill=\"black\" stroke=\"black\" points=\"287.09,-168.86 277.84,-163.69 281.85,-173.5 287.09,-168.86\"/>\n",
       "<text text-anchor=\"middle\" x=\"275.32\" y=\"-182.09\" font-family=\"Helvetica,sans-Serif\" font-size=\"14.00\">True</text>\n",
       "</g>\n",
       "<!-- 4 -->\n",
       "<g id=\"node5\" class=\"node\">\n",
       "<title>4</title>\n",
       "<polygon fill=\"#7bbeee\" stroke=\"black\" points=\"517.5,-162.25 348.5,-162.25 348.5,-91.25 517.5,-91.25 517.5,-162.25\"/>\n",
       "<text text-anchor=\"middle\" x=\"433\" y=\"-144.95\" font-family=\"Helvetica,sans-Serif\" font-size=\"14.00\">height &lt;= 167.5</text>\n",
       "<text text-anchor=\"middle\" x=\"433\" y=\"-129.2\" font-family=\"Helvetica,sans-Serif\" font-size=\"14.00\">gini = 0.376</text>\n",
       "<text text-anchor=\"middle\" x=\"433\" y=\"-113.45\" font-family=\"Helvetica,sans-Serif\" font-size=\"14.00\">samples = 546930</text>\n",
       "<text text-anchor=\"middle\" x=\"433\" y=\"-97.7\" font-family=\"Helvetica,sans-Serif\" font-size=\"14.00\">value = [137148, 409782]</text>\n",
       "</g>\n",
       "<!-- 0&#45;&gt;4 -->\n",
       "<g id=\"edge4\" class=\"edge\">\n",
       "<title>0&#45;&gt;4</title>\n",
       "<path fill=\"none\" stroke=\"black\" d=\"M370.3,-197.79C377.99,-189.2 386.31,-179.9 394.31,-170.97\"/>\n",
       "<polygon fill=\"black\" stroke=\"black\" points=\"396.76,-173.47 400.83,-163.69 391.55,-168.8 396.76,-173.47\"/>\n",
       "<text text-anchor=\"middle\" x=\"403.22\" y=\"-182.1\" font-family=\"Helvetica,sans-Serif\" font-size=\"14.00\">False</text>\n",
       "</g>\n",
       "<!-- 2 -->\n",
       "<g id=\"node3\" class=\"node\">\n",
       "<title>2</title>\n",
       "<polygon fill=\"#f3c3a0\" stroke=\"black\" points=\"154,-55.25 0,-55.25 0,0 154,0 154,-55.25\"/>\n",
       "<text text-anchor=\"middle\" x=\"77\" y=\"-37.95\" font-family=\"Helvetica,sans-Serif\" font-size=\"14.00\">gini = 0.451</text>\n",
       "<text text-anchor=\"middle\" x=\"77\" y=\"-22.2\" font-family=\"Helvetica,sans-Serif\" font-size=\"14.00\">samples = 121545</text>\n",
       "<text text-anchor=\"middle\" x=\"77\" y=\"-6.45\" font-family=\"Helvetica,sans-Serif\" font-size=\"14.00\">value = [79843, 41702]</text>\n",
       "</g>\n",
       "<!-- 1&#45;&gt;2 -->\n",
       "<g id=\"edge2\" class=\"edge\">\n",
       "<title>1&#45;&gt;2</title>\n",
       "<path fill=\"none\" stroke=\"black\" d=\"M185.46,-90.96C168.6,-81.27 150.35,-70.78 133.71,-61.22\"/>\n",
       "<polygon fill=\"black\" stroke=\"black\" points=\"135.85,-58.41 125.44,-56.46 132.37,-64.48 135.85,-58.41\"/>\n",
       "</g>\n",
       "<!-- 3 -->\n",
       "<g id=\"node4\" class=\"node\">\n",
       "<title>3</title>\n",
       "<polygon fill=\"#eef7fd\" stroke=\"black\" points=\"326,-55.25 172,-55.25 172,0 326,0 326,-55.25\"/>\n",
       "<text text-anchor=\"middle\" x=\"249\" y=\"-37.95\" font-family=\"Helvetica,sans-Serif\" font-size=\"14.00\">gini = 0.499</text>\n",
       "<text text-anchor=\"middle\" x=\"249\" y=\"-22.2\" font-family=\"Helvetica,sans-Serif\" font-size=\"14.00\">samples = 131413</text>\n",
       "<text text-anchor=\"middle\" x=\"249\" y=\"-6.45\" font-family=\"Helvetica,sans-Serif\" font-size=\"14.00\">value = [62830, 68583]</text>\n",
       "</g>\n",
       "<!-- 1&#45;&gt;3 -->\n",
       "<g id=\"edge3\" class=\"edge\">\n",
       "<title>1&#45;&gt;3</title>\n",
       "<path fill=\"none\" stroke=\"black\" d=\"M247.07,-90.96C247.32,-83.13 247.57,-74.79 247.82,-66.83\"/>\n",
       "<polygon fill=\"black\" stroke=\"black\" points=\"251.31,-67.17 248.12,-57.07 244.31,-66.96 251.31,-67.17\"/>\n",
       "</g>\n",
       "<!-- 5 -->\n",
       "<g id=\"node6\" class=\"node\">\n",
       "<title>5</title>\n",
       "<polygon fill=\"#94caf1\" stroke=\"black\" points=\"510.38,-55.25 349.62,-55.25 349.62,0 510.38,0 510.38,-55.25\"/>\n",
       "<text text-anchor=\"middle\" x=\"430\" y=\"-37.95\" font-family=\"Helvetica,sans-Serif\" font-size=\"14.00\">gini = 0.432</text>\n",
       "<text text-anchor=\"middle\" x=\"430\" y=\"-22.2\" font-family=\"Helvetica,sans-Serif\" font-size=\"14.00\">samples = 291473</text>\n",
       "<text text-anchor=\"middle\" x=\"430\" y=\"-6.45\" font-family=\"Helvetica,sans-Serif\" font-size=\"14.00\">value = [92117, 199356]</text>\n",
       "</g>\n",
       "<!-- 4&#45;&gt;5 -->\n",
       "<g id=\"edge5\" class=\"edge\">\n",
       "<title>4&#45;&gt;5</title>\n",
       "<path fill=\"none\" stroke=\"black\" d=\"M431.93,-90.96C431.68,-83.13 431.43,-74.79 431.18,-66.83\"/>\n",
       "<polygon fill=\"black\" stroke=\"black\" points=\"434.69,-66.96 430.88,-57.07 427.69,-67.17 434.69,-66.96\"/>\n",
       "</g>\n",
       "<!-- 6 -->\n",
       "<g id=\"node7\" class=\"node\">\n",
       "<title>6</title>\n",
       "<polygon fill=\"#63b2eb\" stroke=\"black\" points=\"689.75,-55.25 528.25,-55.25 528.25,0 689.75,0 689.75,-55.25\"/>\n",
       "<text text-anchor=\"middle\" x=\"609\" y=\"-37.95\" font-family=\"Helvetica,sans-Serif\" font-size=\"14.00\">gini = 0.29</text>\n",
       "<text text-anchor=\"middle\" x=\"609\" y=\"-22.2\" font-family=\"Helvetica,sans-Serif\" font-size=\"14.00\">samples = 255457</text>\n",
       "<text text-anchor=\"middle\" x=\"609\" y=\"-6.45\" font-family=\"Helvetica,sans-Serif\" font-size=\"14.00\">value = [45031, 210426]</text>\n",
       "</g>\n",
       "<!-- 4&#45;&gt;6 -->\n",
       "<g id=\"edge6\" class=\"edge\">\n",
       "<title>4&#45;&gt;6</title>\n",
       "<path fill=\"none\" stroke=\"black\" d=\"M496.04,-90.96C513.61,-81.27 532.61,-70.78 549.94,-61.22\"/>\n",
       "<polygon fill=\"black\" stroke=\"black\" points=\"551.53,-64.34 558.6,-56.44 548.15,-58.21 551.53,-64.34\"/>\n",
       "</g>\n",
       "</g>\n",
       "</svg>\n"
      ],
      "text/plain": [
       "<graphviz.sources.Source at 0x2b1856438d0>"
      ]
     },
     "execution_count": 13,
     "metadata": {},
     "output_type": "execute_result"
    }
   ],
   "source": [
    "from sklearn.tree import export_graphviz\n",
    "import graphviz\n",
    "tree_graph = graphviz.Source(export_graphviz(\n",
    "    dt_model,\n",
    "    feature_names=[\"height\",\"sex\",\"weight\"],\n",
    "    impurity=True,\n",
    "    filled=True\n",
    "))\n",
    "\n",
    "tree_graph"
   ]
  },
  {
   "cell_type": "markdown",
   "metadata": {},
   "source": [
    "- Gini impuraty = gini\n",
    "$$\n",
    "gini = 1 - {p_0}^2 - {p_1}^2\n",
    "$$\n",
    "- class = 리스트 중 제일 큰 값\n",
    "- 의사결정나무는 gini 값을 낮추는 것을 목표로 분기를 나눈다."
   ]
  },
  {
   "cell_type": "markdown",
   "metadata": {},
   "source": [
    "#"
   ]
  },
  {
   "cell_type": "code",
   "execution_count": 18,
   "metadata": {},
   "outputs": [
    {
     "name": "stdout",
     "output_type": "stream",
     "text": [
      "0.0\n",
      "0.642\n",
      "0.642\n"
     ]
    }
   ],
   "source": [
    "def gini(x):\n",
    "    n = x.sum()\n",
    "    gini_sum = 0\n",
    "    for key in x.keys():\n",
    "        gini_sum += (x[key]/n) * (x[key]/n)\n",
    "    return 1 - gini_sum\n",
    "\n",
    "fruit_1 = ['사과'] * 9\n",
    "fruit_2 = ['사과'] * 2 + ['바나나'] * 4 + ['복숭아'] * 3\n",
    "fruit_3 = ['사과'] * 4 + ['바나나'] * 2 + ['복숭아'] * 3\n",
    "print(round(gini(pd.DataFrame(fruit_1).value_counts()),3))\n",
    "print(round(gini(pd.DataFrame(fruit_2).value_counts()),3))\n",
    "print(round(gini(pd.DataFrame(fruit_3).value_counts()),3))"
   ]
  },
  {
   "cell_type": "code",
   "execution_count": 20,
   "metadata": {},
   "outputs": [
    {
     "name": "stdout",
     "output_type": "stream",
     "text": [
      "0.6897065589182485\n",
      "0.7004030564278999\n",
      "0.7004030564278999\n"
     ]
    }
   ],
   "source": [
    "dt_1 = DecisionTreeClassifier(\n",
    "    max_depth=1,random_state=1001\n",
    ")\n",
    "dt_15 = DecisionTreeClassifier(\n",
    "    max_depth=15,random_state=1001\n",
    ")\n",
    "dt_30 = DecisionTreeClassifier(\n",
    "    max_depth=30,random_state=1001\n",
    ")\n",
    "dt_1.fit(x_train,y_train)\n",
    "dt_15.fit(x_train,y_train)\n",
    "dt_30.fit(x_train,y_train)\n",
    "dt_mode_1 = dt_1.score(x_valid,y_valid)\n",
    "dt_mode_15 = dt_15.score(x_valid,y_valid)\n",
    "dt_mode_30 = dt_30.score(x_valid,y_valid)\n",
    "print(dt_mode_1)\n",
    "print(dt_mode_15)\n",
    "print(dt_mode_30)"
   ]
  },
  {
   "cell_type": "code",
   "execution_count": 21,
   "metadata": {},
   "outputs": [
    {
     "name": "stdout",
     "output_type": "stream",
     "text": [
      "0.7003930550277039\n",
      "0.7004030564278999\n",
      "0.7004030564278999\n"
     ]
    }
   ],
   "source": [
    "dt_1 = DecisionTreeClassifier(\n",
    "    max_features=1,random_state=1001\n",
    ")\n",
    "dt_15 = DecisionTreeClassifier(\n",
    "    max_features=2,random_state=1001\n",
    ")\n",
    "dt_30 = DecisionTreeClassifier(\n",
    "    max_features=3,random_state=1001\n",
    ")\n",
    "dt_1.fit(x_train,y_train)\n",
    "dt_15.fit(x_train,y_train)\n",
    "dt_30.fit(x_train,y_train)\n",
    "dt_mode_1 = dt_1.score(x_valid,y_valid)\n",
    "dt_mode_15 = dt_15.score(x_valid,y_valid)\n",
    "dt_mode_30 = dt_30.score(x_valid,y_valid)\n",
    "print(dt_mode_1)\n",
    "print(dt_mode_15)\n",
    "print(dt_mode_30)"
   ]
  },
  {
   "cell_type": "markdown",
   "metadata": {},
   "source": [
    "#### Ensemble\n",
    "- 다수의 기본 모델을 합쳐 새로운 모델을 만드는 걸 의미함.\n",
    "- 여러 모델을 합친 모델을 Ensemble Model 이라고 한다.\n",
    "- 여기서 기본 모델은 결정 트리, 선형회귀, CNN 등등 여러 모델을 의미한다.\n",
    "\n",
    "- 배깅(bagging) - (bootstrap aggregating) : 병렬\n",
    "    - 학습할 데이터에서 n개의 부트스트랩 샘플링 데이터를 만들고 이 데이터 학습을 진행, 이후 배깅을 실행(소프트 or 하드)\n",
    "- 보팅(Voting) : 병렬\n",
    "    - n개로 구성된 보깅 모델이 a개의 모델에 대해 전부 예측을 시키고 최빈값을 정답으로 출력\n",
    "    - 하드 보팅, 소프트 보팅이 있다. (2개의 차이는?) 소프트는 예측 확률의 평균을 구해 정답을 추론, 하드는 선택 기반(가장 많은 선택 수)\n",
    "- 부스팅(boosting) : 순차\n",
    "    - 예측력이 약한 모델을 순차적으로 연결한 방식\n",
    "    - n개의 모델에 동일한 가중치 부여 -> 학습 데이터를 훈련 -> 오차가 큰 모델은 가충치는 높게 부여, 낮은 모델은 낮게 부여 -> 학습 데이터에서 샘플링 데이터를 구함 여러번 반복(아마 하이퍼파라미터) -> n개의 모델의 가중치의 평균으로 정답을 추론"
   ]
  },
  {
   "cell_type": "code",
   "execution_count": 8,
   "metadata": {},
   "outputs": [
    {
     "name": "stdout",
     "output_type": "stream",
     "text": [
      "(60000, 28, 28)\n",
      "(60000, 784)\n"
     ]
    }
   ],
   "source": [
    "from tensorflow.keras.datasets.mnist import load_data\n",
    "\n",
    "(x_train,y_train),(x_test,y_test) = load_data()\n",
    "print(x_train.shape)\n",
    "\n",
    "X_train = x_train.reshape(-1,784)\n",
    "X_test = x_test.reshape(-1,784)\n",
    "print(X_train.shape)"
   ]
  },
  {
   "cell_type": "code",
   "execution_count": 9,
   "metadata": {},
   "outputs": [
    {
     "name": "stdout",
     "output_type": "stream",
     "text": [
      "1.0\n",
      "0.8781\n"
     ]
    }
   ],
   "source": [
    "from sklearn.tree import DecisionTreeClassifier\n",
    "from sklearn.ensemble import RandomForestClassifier\n",
    "\n",
    "dct = DecisionTreeClassifier(random_state=0)\n",
    "dct.fit(X_train, y_train)\n",
    "acc_train_dct = dct.score(X_train,y_train)\n",
    "acc_test_dct = dct.score(X_test,y_test)\n",
    "\n",
    "print(acc_train_dct)\n",
    "print(acc_test_dct)\n"
   ]
  },
  {
   "cell_type": "code",
   "execution_count": 10,
   "metadata": {},
   "outputs": [
    {
     "data": {
      "text/html": [
       "<style>#sk-container-id-1 {\n",
       "  /* Definition of color scheme common for light and dark mode */\n",
       "  --sklearn-color-text: black;\n",
       "  --sklearn-color-line: gray;\n",
       "  /* Definition of color scheme for unfitted estimators */\n",
       "  --sklearn-color-unfitted-level-0: #fff5e6;\n",
       "  --sklearn-color-unfitted-level-1: #f6e4d2;\n",
       "  --sklearn-color-unfitted-level-2: #ffe0b3;\n",
       "  --sklearn-color-unfitted-level-3: chocolate;\n",
       "  /* Definition of color scheme for fitted estimators */\n",
       "  --sklearn-color-fitted-level-0: #f0f8ff;\n",
       "  --sklearn-color-fitted-level-1: #d4ebff;\n",
       "  --sklearn-color-fitted-level-2: #b3dbfd;\n",
       "  --sklearn-color-fitted-level-3: cornflowerblue;\n",
       "\n",
       "  /* Specific color for light theme */\n",
       "  --sklearn-color-text-on-default-background: var(--sg-text-color, var(--theme-code-foreground, var(--jp-content-font-color1, black)));\n",
       "  --sklearn-color-background: var(--sg-background-color, var(--theme-background, var(--jp-layout-color0, white)));\n",
       "  --sklearn-color-border-box: var(--sg-text-color, var(--theme-code-foreground, var(--jp-content-font-color1, black)));\n",
       "  --sklearn-color-icon: #696969;\n",
       "\n",
       "  @media (prefers-color-scheme: dark) {\n",
       "    /* Redefinition of color scheme for dark theme */\n",
       "    --sklearn-color-text-on-default-background: var(--sg-text-color, var(--theme-code-foreground, var(--jp-content-font-color1, white)));\n",
       "    --sklearn-color-background: var(--sg-background-color, var(--theme-background, var(--jp-layout-color0, #111)));\n",
       "    --sklearn-color-border-box: var(--sg-text-color, var(--theme-code-foreground, var(--jp-content-font-color1, white)));\n",
       "    --sklearn-color-icon: #878787;\n",
       "  }\n",
       "}\n",
       "\n",
       "#sk-container-id-1 {\n",
       "  color: var(--sklearn-color-text);\n",
       "}\n",
       "\n",
       "#sk-container-id-1 pre {\n",
       "  padding: 0;\n",
       "}\n",
       "\n",
       "#sk-container-id-1 input.sk-hidden--visually {\n",
       "  border: 0;\n",
       "  clip: rect(1px 1px 1px 1px);\n",
       "  clip: rect(1px, 1px, 1px, 1px);\n",
       "  height: 1px;\n",
       "  margin: -1px;\n",
       "  overflow: hidden;\n",
       "  padding: 0;\n",
       "  position: absolute;\n",
       "  width: 1px;\n",
       "}\n",
       "\n",
       "#sk-container-id-1 div.sk-dashed-wrapped {\n",
       "  border: 1px dashed var(--sklearn-color-line);\n",
       "  margin: 0 0.4em 0.5em 0.4em;\n",
       "  box-sizing: border-box;\n",
       "  padding-bottom: 0.4em;\n",
       "  background-color: var(--sklearn-color-background);\n",
       "}\n",
       "\n",
       "#sk-container-id-1 div.sk-container {\n",
       "  /* jupyter's `normalize.less` sets `[hidden] { display: none; }`\n",
       "     but bootstrap.min.css set `[hidden] { display: none !important; }`\n",
       "     so we also need the `!important` here to be able to override the\n",
       "     default hidden behavior on the sphinx rendered scikit-learn.org.\n",
       "     See: https://github.com/scikit-learn/scikit-learn/issues/21755 */\n",
       "  display: inline-block !important;\n",
       "  position: relative;\n",
       "}\n",
       "\n",
       "#sk-container-id-1 div.sk-text-repr-fallback {\n",
       "  display: none;\n",
       "}\n",
       "\n",
       "div.sk-parallel-item,\n",
       "div.sk-serial,\n",
       "div.sk-item {\n",
       "  /* draw centered vertical line to link estimators */\n",
       "  background-image: linear-gradient(var(--sklearn-color-text-on-default-background), var(--sklearn-color-text-on-default-background));\n",
       "  background-size: 2px 100%;\n",
       "  background-repeat: no-repeat;\n",
       "  background-position: center center;\n",
       "}\n",
       "\n",
       "/* Parallel-specific style estimator block */\n",
       "\n",
       "#sk-container-id-1 div.sk-parallel-item::after {\n",
       "  content: \"\";\n",
       "  width: 100%;\n",
       "  border-bottom: 2px solid var(--sklearn-color-text-on-default-background);\n",
       "  flex-grow: 1;\n",
       "}\n",
       "\n",
       "#sk-container-id-1 div.sk-parallel {\n",
       "  display: flex;\n",
       "  align-items: stretch;\n",
       "  justify-content: center;\n",
       "  background-color: var(--sklearn-color-background);\n",
       "  position: relative;\n",
       "}\n",
       "\n",
       "#sk-container-id-1 div.sk-parallel-item {\n",
       "  display: flex;\n",
       "  flex-direction: column;\n",
       "}\n",
       "\n",
       "#sk-container-id-1 div.sk-parallel-item:first-child::after {\n",
       "  align-self: flex-end;\n",
       "  width: 50%;\n",
       "}\n",
       "\n",
       "#sk-container-id-1 div.sk-parallel-item:last-child::after {\n",
       "  align-self: flex-start;\n",
       "  width: 50%;\n",
       "}\n",
       "\n",
       "#sk-container-id-1 div.sk-parallel-item:only-child::after {\n",
       "  width: 0;\n",
       "}\n",
       "\n",
       "/* Serial-specific style estimator block */\n",
       "\n",
       "#sk-container-id-1 div.sk-serial {\n",
       "  display: flex;\n",
       "  flex-direction: column;\n",
       "  align-items: center;\n",
       "  background-color: var(--sklearn-color-background);\n",
       "  padding-right: 1em;\n",
       "  padding-left: 1em;\n",
       "}\n",
       "\n",
       "\n",
       "/* Toggleable style: style used for estimator/Pipeline/ColumnTransformer box that is\n",
       "clickable and can be expanded/collapsed.\n",
       "- Pipeline and ColumnTransformer use this feature and define the default style\n",
       "- Estimators will overwrite some part of the style using the `sk-estimator` class\n",
       "*/\n",
       "\n",
       "/* Pipeline and ColumnTransformer style (default) */\n",
       "\n",
       "#sk-container-id-1 div.sk-toggleable {\n",
       "  /* Default theme specific background. It is overwritten whether we have a\n",
       "  specific estimator or a Pipeline/ColumnTransformer */\n",
       "  background-color: var(--sklearn-color-background);\n",
       "}\n",
       "\n",
       "/* Toggleable label */\n",
       "#sk-container-id-1 label.sk-toggleable__label {\n",
       "  cursor: pointer;\n",
       "  display: block;\n",
       "  width: 100%;\n",
       "  margin-bottom: 0;\n",
       "  padding: 0.5em;\n",
       "  box-sizing: border-box;\n",
       "  text-align: center;\n",
       "}\n",
       "\n",
       "#sk-container-id-1 label.sk-toggleable__label-arrow:before {\n",
       "  /* Arrow on the left of the label */\n",
       "  content: \"▸\";\n",
       "  float: left;\n",
       "  margin-right: 0.25em;\n",
       "  color: var(--sklearn-color-icon);\n",
       "}\n",
       "\n",
       "#sk-container-id-1 label.sk-toggleable__label-arrow:hover:before {\n",
       "  color: var(--sklearn-color-text);\n",
       "}\n",
       "\n",
       "/* Toggleable content - dropdown */\n",
       "\n",
       "#sk-container-id-1 div.sk-toggleable__content {\n",
       "  max-height: 0;\n",
       "  max-width: 0;\n",
       "  overflow: hidden;\n",
       "  text-align: left;\n",
       "  /* unfitted */\n",
       "  background-color: var(--sklearn-color-unfitted-level-0);\n",
       "}\n",
       "\n",
       "#sk-container-id-1 div.sk-toggleable__content.fitted {\n",
       "  /* fitted */\n",
       "  background-color: var(--sklearn-color-fitted-level-0);\n",
       "}\n",
       "\n",
       "#sk-container-id-1 div.sk-toggleable__content pre {\n",
       "  margin: 0.2em;\n",
       "  border-radius: 0.25em;\n",
       "  color: var(--sklearn-color-text);\n",
       "  /* unfitted */\n",
       "  background-color: var(--sklearn-color-unfitted-level-0);\n",
       "}\n",
       "\n",
       "#sk-container-id-1 div.sk-toggleable__content.fitted pre {\n",
       "  /* unfitted */\n",
       "  background-color: var(--sklearn-color-fitted-level-0);\n",
       "}\n",
       "\n",
       "#sk-container-id-1 input.sk-toggleable__control:checked~div.sk-toggleable__content {\n",
       "  /* Expand drop-down */\n",
       "  max-height: 200px;\n",
       "  max-width: 100%;\n",
       "  overflow: auto;\n",
       "}\n",
       "\n",
       "#sk-container-id-1 input.sk-toggleable__control:checked~label.sk-toggleable__label-arrow:before {\n",
       "  content: \"▾\";\n",
       "}\n",
       "\n",
       "/* Pipeline/ColumnTransformer-specific style */\n",
       "\n",
       "#sk-container-id-1 div.sk-label input.sk-toggleable__control:checked~label.sk-toggleable__label {\n",
       "  color: var(--sklearn-color-text);\n",
       "  background-color: var(--sklearn-color-unfitted-level-2);\n",
       "}\n",
       "\n",
       "#sk-container-id-1 div.sk-label.fitted input.sk-toggleable__control:checked~label.sk-toggleable__label {\n",
       "  background-color: var(--sklearn-color-fitted-level-2);\n",
       "}\n",
       "\n",
       "/* Estimator-specific style */\n",
       "\n",
       "/* Colorize estimator box */\n",
       "#sk-container-id-1 div.sk-estimator input.sk-toggleable__control:checked~label.sk-toggleable__label {\n",
       "  /* unfitted */\n",
       "  background-color: var(--sklearn-color-unfitted-level-2);\n",
       "}\n",
       "\n",
       "#sk-container-id-1 div.sk-estimator.fitted input.sk-toggleable__control:checked~label.sk-toggleable__label {\n",
       "  /* fitted */\n",
       "  background-color: var(--sklearn-color-fitted-level-2);\n",
       "}\n",
       "\n",
       "#sk-container-id-1 div.sk-label label.sk-toggleable__label,\n",
       "#sk-container-id-1 div.sk-label label {\n",
       "  /* The background is the default theme color */\n",
       "  color: var(--sklearn-color-text-on-default-background);\n",
       "}\n",
       "\n",
       "/* On hover, darken the color of the background */\n",
       "#sk-container-id-1 div.sk-label:hover label.sk-toggleable__label {\n",
       "  color: var(--sklearn-color-text);\n",
       "  background-color: var(--sklearn-color-unfitted-level-2);\n",
       "}\n",
       "\n",
       "/* Label box, darken color on hover, fitted */\n",
       "#sk-container-id-1 div.sk-label.fitted:hover label.sk-toggleable__label.fitted {\n",
       "  color: var(--sklearn-color-text);\n",
       "  background-color: var(--sklearn-color-fitted-level-2);\n",
       "}\n",
       "\n",
       "/* Estimator label */\n",
       "\n",
       "#sk-container-id-1 div.sk-label label {\n",
       "  font-family: monospace;\n",
       "  font-weight: bold;\n",
       "  display: inline-block;\n",
       "  line-height: 1.2em;\n",
       "}\n",
       "\n",
       "#sk-container-id-1 div.sk-label-container {\n",
       "  text-align: center;\n",
       "}\n",
       "\n",
       "/* Estimator-specific */\n",
       "#sk-container-id-1 div.sk-estimator {\n",
       "  font-family: monospace;\n",
       "  border: 1px dotted var(--sklearn-color-border-box);\n",
       "  border-radius: 0.25em;\n",
       "  box-sizing: border-box;\n",
       "  margin-bottom: 0.5em;\n",
       "  /* unfitted */\n",
       "  background-color: var(--sklearn-color-unfitted-level-0);\n",
       "}\n",
       "\n",
       "#sk-container-id-1 div.sk-estimator.fitted {\n",
       "  /* fitted */\n",
       "  background-color: var(--sklearn-color-fitted-level-0);\n",
       "}\n",
       "\n",
       "/* on hover */\n",
       "#sk-container-id-1 div.sk-estimator:hover {\n",
       "  /* unfitted */\n",
       "  background-color: var(--sklearn-color-unfitted-level-2);\n",
       "}\n",
       "\n",
       "#sk-container-id-1 div.sk-estimator.fitted:hover {\n",
       "  /* fitted */\n",
       "  background-color: var(--sklearn-color-fitted-level-2);\n",
       "}\n",
       "\n",
       "/* Specification for estimator info (e.g. \"i\" and \"?\") */\n",
       "\n",
       "/* Common style for \"i\" and \"?\" */\n",
       "\n",
       ".sk-estimator-doc-link,\n",
       "a:link.sk-estimator-doc-link,\n",
       "a:visited.sk-estimator-doc-link {\n",
       "  float: right;\n",
       "  font-size: smaller;\n",
       "  line-height: 1em;\n",
       "  font-family: monospace;\n",
       "  background-color: var(--sklearn-color-background);\n",
       "  border-radius: 1em;\n",
       "  height: 1em;\n",
       "  width: 1em;\n",
       "  text-decoration: none !important;\n",
       "  margin-left: 1ex;\n",
       "  /* unfitted */\n",
       "  border: var(--sklearn-color-unfitted-level-1) 1pt solid;\n",
       "  color: var(--sklearn-color-unfitted-level-1);\n",
       "}\n",
       "\n",
       ".sk-estimator-doc-link.fitted,\n",
       "a:link.sk-estimator-doc-link.fitted,\n",
       "a:visited.sk-estimator-doc-link.fitted {\n",
       "  /* fitted */\n",
       "  border: var(--sklearn-color-fitted-level-1) 1pt solid;\n",
       "  color: var(--sklearn-color-fitted-level-1);\n",
       "}\n",
       "\n",
       "/* On hover */\n",
       "div.sk-estimator:hover .sk-estimator-doc-link:hover,\n",
       ".sk-estimator-doc-link:hover,\n",
       "div.sk-label-container:hover .sk-estimator-doc-link:hover,\n",
       ".sk-estimator-doc-link:hover {\n",
       "  /* unfitted */\n",
       "  background-color: var(--sklearn-color-unfitted-level-3);\n",
       "  color: var(--sklearn-color-background);\n",
       "  text-decoration: none;\n",
       "}\n",
       "\n",
       "div.sk-estimator.fitted:hover .sk-estimator-doc-link.fitted:hover,\n",
       ".sk-estimator-doc-link.fitted:hover,\n",
       "div.sk-label-container:hover .sk-estimator-doc-link.fitted:hover,\n",
       ".sk-estimator-doc-link.fitted:hover {\n",
       "  /* fitted */\n",
       "  background-color: var(--sklearn-color-fitted-level-3);\n",
       "  color: var(--sklearn-color-background);\n",
       "  text-decoration: none;\n",
       "}\n",
       "\n",
       "/* Span, style for the box shown on hovering the info icon */\n",
       ".sk-estimator-doc-link span {\n",
       "  display: none;\n",
       "  z-index: 9999;\n",
       "  position: relative;\n",
       "  font-weight: normal;\n",
       "  right: .2ex;\n",
       "  padding: .5ex;\n",
       "  margin: .5ex;\n",
       "  width: min-content;\n",
       "  min-width: 20ex;\n",
       "  max-width: 50ex;\n",
       "  color: var(--sklearn-color-text);\n",
       "  box-shadow: 2pt 2pt 4pt #999;\n",
       "  /* unfitted */\n",
       "  background: var(--sklearn-color-unfitted-level-0);\n",
       "  border: .5pt solid var(--sklearn-color-unfitted-level-3);\n",
       "}\n",
       "\n",
       ".sk-estimator-doc-link.fitted span {\n",
       "  /* fitted */\n",
       "  background: var(--sklearn-color-fitted-level-0);\n",
       "  border: var(--sklearn-color-fitted-level-3);\n",
       "}\n",
       "\n",
       ".sk-estimator-doc-link:hover span {\n",
       "  display: block;\n",
       "}\n",
       "\n",
       "/* \"?\"-specific style due to the `<a>` HTML tag */\n",
       "\n",
       "#sk-container-id-1 a.estimator_doc_link {\n",
       "  float: right;\n",
       "  font-size: 1rem;\n",
       "  line-height: 1em;\n",
       "  font-family: monospace;\n",
       "  background-color: var(--sklearn-color-background);\n",
       "  border-radius: 1rem;\n",
       "  height: 1rem;\n",
       "  width: 1rem;\n",
       "  text-decoration: none;\n",
       "  /* unfitted */\n",
       "  color: var(--sklearn-color-unfitted-level-1);\n",
       "  border: var(--sklearn-color-unfitted-level-1) 1pt solid;\n",
       "}\n",
       "\n",
       "#sk-container-id-1 a.estimator_doc_link.fitted {\n",
       "  /* fitted */\n",
       "  border: var(--sklearn-color-fitted-level-1) 1pt solid;\n",
       "  color: var(--sklearn-color-fitted-level-1);\n",
       "}\n",
       "\n",
       "/* On hover */\n",
       "#sk-container-id-1 a.estimator_doc_link:hover {\n",
       "  /* unfitted */\n",
       "  background-color: var(--sklearn-color-unfitted-level-3);\n",
       "  color: var(--sklearn-color-background);\n",
       "  text-decoration: none;\n",
       "}\n",
       "\n",
       "#sk-container-id-1 a.estimator_doc_link.fitted:hover {\n",
       "  /* fitted */\n",
       "  background-color: var(--sklearn-color-fitted-level-3);\n",
       "}\n",
       "</style><div id=\"sk-container-id-1\" class=\"sk-top-container\"><div class=\"sk-text-repr-fallback\"><pre>RandomForestClassifier(random_state=0)</pre><b>In a Jupyter environment, please rerun this cell to show the HTML representation or trust the notebook. <br />On GitHub, the HTML representation is unable to render, please try loading this page with nbviewer.org.</b></div><div class=\"sk-container\" hidden><div class=\"sk-item\"><div class=\"sk-estimator fitted sk-toggleable\"><input class=\"sk-toggleable__control sk-hidden--visually\" id=\"sk-estimator-id-1\" type=\"checkbox\" checked><label for=\"sk-estimator-id-1\" class=\"sk-toggleable__label fitted sk-toggleable__label-arrow fitted\">&nbsp;&nbsp;RandomForestClassifier<a class=\"sk-estimator-doc-link fitted\" rel=\"noreferrer\" target=\"_blank\" href=\"https://scikit-learn.org/1.5/modules/generated/sklearn.ensemble.RandomForestClassifier.html\">?<span>Documentation for RandomForestClassifier</span></a><span class=\"sk-estimator-doc-link fitted\">i<span>Fitted</span></span></label><div class=\"sk-toggleable__content fitted\"><pre>RandomForestClassifier(random_state=0)</pre></div> </div></div></div></div>"
      ],
      "text/plain": [
       "RandomForestClassifier(random_state=0)"
      ]
     },
     "execution_count": 10,
     "metadata": {},
     "output_type": "execute_result"
    }
   ],
   "source": [
    "rfc = RandomForestClassifier(random_state=0)\n",
    "rfc.fit(X_train,y_train)"
   ]
  },
  {
   "cell_type": "code",
   "execution_count": 11,
   "metadata": {},
   "outputs": [],
   "source": [
    "acc_train_rfc = rfc.score(X_train,y_train)\n",
    "acc_test_rfc = rfc.score(X_test, y_test)"
   ]
  },
  {
   "cell_type": "code",
   "execution_count": 12,
   "metadata": {},
   "outputs": [
    {
     "name": "stdout",
     "output_type": "stream",
     "text": [
      "1.0\n",
      "0.9705\n"
     ]
    }
   ],
   "source": [
    "print(acc_train_rfc)\n",
    "print(acc_test_rfc)"
   ]
  },
  {
   "cell_type": "code",
   "execution_count": 15,
   "metadata": {},
   "outputs": [
    {
     "data": {
      "image/png": "[encoded data removed]",
      "text/plain": [
       "<Figure size 640x480 with 1 Axes>"
      ]
     },
     "metadata": {},
     "output_type": "display_data"
    }
   ],
   "source": [
    "import matplotlib.pyplot as plt\n",
    "\n",
    "acc_list_x = ['dct_train','dct_test','rfc_train','rfc_test']\n",
    "acc_list_y = [acc_train_dct, acc_test_dct, acc_train_rfc, acc_test_rfc]\n",
    "\n",
    "colors = ['orange','orange','blue','blue']\n",
    "\n",
    "plt.bar(acc_list_x,acc_list_y,color = colors)\n",
    "plt.show()"
   ]
  },
  {
   "cell_type": "code",
   "execution_count": 17,
   "metadata": {},
   "outputs": [
    {
     "name": "stdout",
     "output_type": "stream",
     "text": [
      "1.0 0.8507\n",
      "1.0 0.8781\n"
     ]
    }
   ],
   "source": [
    "rfc = RandomForestClassifier(\n",
    "    random_state=0,\n",
    "    # 나무개수\n",
    "    n_estimators = 1,\n",
    "    # 의사결정나무 기준으로 변경하기\n",
    "    max_features=40,\n",
    "    bootstrap=False\n",
    "    )\n",
    "rfc.fit(X_train,y_train)\n",
    "\n",
    "acc_train_rfc = rfc.score(X_train,y_train)\n",
    "acc_test_rfc = rfc.score(X_test, y_test)\n",
    "acc_train_dct = dct.score(X_train,y_train)\n",
    "acc_test_dct = dct.score(X_test,y_test)\n",
    "print(acc_train_rfc,acc_test_rfc)\n",
    "print(acc_train_dct,acc_test_dct)"
   ]
  },
  {
   "cell_type": "code",
   "execution_count": 18,
   "metadata": {},
   "outputs": [
    {
     "name": "stdout",
     "output_type": "stream",
     "text": [
      "1.0 0.8587\n",
      "1.0 0.8781\n"
     ]
    }
   ],
   "source": [
    "rfc = RandomForestClassifier(\n",
    "    random_state=0,\n",
    "    # 나무개수\n",
    "    n_estimators = 1,\n",
    "    # 의사결정나무 기준으로 변경하기\n",
    "    max_features=60,\n",
    "    bootstrap=False\n",
    "    )\n",
    "rfc.fit(X_train,y_train)\n",
    "\n",
    "acc_train_rfc = rfc.score(X_train,y_train)\n",
    "acc_test_rfc = rfc.score(X_test, y_test)\n",
    "acc_train_dct = dct.score(X_train,y_train)\n",
    "acc_test_dct = dct.score(X_test,y_test)\n",
    "print(acc_train_rfc,acc_test_rfc)\n",
    "print(acc_train_dct,acc_test_dct)"
   ]
  },
  {
   "cell_type": "code",
   "execution_count": 19,
   "metadata": {},
   "outputs": [
    {
     "name": "stdout",
     "output_type": "stream",
     "text": [
      "1.0 0.8496\n",
      "1.0 0.8781\n"
     ]
    }
   ],
   "source": [
    "rfc = RandomForestClassifier(\n",
    "    random_state=0,\n",
    "    # 나무개수\n",
    "    n_estimators = 1,\n",
    "    # 의사결정나무 기준으로 변경하기\n",
    "    max_features=50,\n",
    "    bootstrap=False\n",
    "    )\n",
    "rfc.fit(X_train,y_train)\n",
    "\n",
    "acc_train_rfc = rfc.score(X_train,y_train)\n",
    "acc_test_rfc = rfc.score(X_test, y_test)\n",
    "acc_train_dct = dct.score(X_train,y_train)\n",
    "acc_test_dct = dct.score(X_test,y_test)\n",
    "print(acc_train_rfc,acc_test_rfc)\n",
    "print(acc_train_dct,acc_test_dct)"
   ]
  },
  {
   "cell_type": "markdown",
   "metadata": {},
   "source": [
    "##### 그레디언트 부스팅 (Gradient boosting)\n",
    "- 부스팅 방식을 사용한 알고리즘으로 순차적인 방법으로 인해 배깅 방식보다 훈련이 오래 걸린다는 단점이 있다. 하지만 이전 모델에 대해 훈련하는 거기 때문에 성능은 더 좋은 경우가 많다. 하지만 트리 기반 특성상 고차원 희소 데이터에는 잘 작동하지 않는다는 단점이 존재.\n",
    "\n",
    "##### 학습률 (Learning rate)\n",
    "- 보통 0 ~ 1사이 값을 사용하고 낮으면 학습이 느리지만 오래 기억한다는 장점이 있고 높으면 학습은 빠르지만 빨리 잊어버린다는 단점이 있다."
   ]
  },
  {
   "cell_type": "code",
   "execution_count": 22,
   "metadata": {},
   "outputs": [
    {
     "data": {
      "image/png": "[encoded data removed]",
      "text/plain": [
       "<Figure size 640x480 with 1 Axes>"
      ]
     },
     "metadata": {},
     "output_type": "display_data"
    },
    {
     "data": {
      "image/png": "[encoded data removed]",
      "text/plain": [
       "<Figure size 640x480 with 1 Axes>"
      ]
     },
     "metadata": {},
     "output_type": "display_data"
    }
   ],
   "source": [
    "(x_train,y_train),(x_test,y_test) = load_data()\n",
    "\n",
    "x_train = x_train[:2000]\n",
    "x_test = x_test[:2000]\n",
    "y_train = y_train[:2000]\n",
    "y_test = y_test[:2000]\n",
    "\n",
    "plt.imshow(x_train[7],cmap='Greys')\n",
    "plt.show()\n",
    "\n",
    "plt.imshow(x_train[1], cmap='Greys')\n",
    "plt.show()"
   ]
  },
  {
   "cell_type": "code",
   "execution_count": null,
   "metadata": {},
   "outputs": [
    {
     "name": "stdout",
     "output_type": "stream",
     "text": [
      "dct\n",
      "1.0 0.6525\n",
      "----------\n",
      "rfc\n",
      "1.0 0.8745\n",
      "----------\n",
      "gbc\n",
      "1.0 0.828\n",
      "----------\n"
     ]
    }
   ],
   "source": [
    "X_train = x_train.reshape(-1,784)\n",
    "X_test = x_test.reshape(-1,784)\n",
    "\n",
    "from sklearn.ensemble import GradientBoostingClassifier\n",
    "\n",
    "dct = DecisionTreeClassifier(random_state=0)\n",
    "dct.fit(X_train,y_train)\n",
    "\n",
    "acc_train_dct = dct.score(X_train,y_train)\n",
    "acc_test_dct = dct.score(X_test,y_test)\n",
    "\n",
    "rfc = RandomForestClassifier(random_state=0)\n",
    "rfc.fit(X_train, y_train)\n",
    "acc_train_rfc = rfc.score(X_train, y_train)\n",
    "acc_test_rfc = rfc.score(X_test, y_test)\n",
    "\n",
    "gbc = GradientBoostingClassifier(random_state=0)\n",
    "gbc.fit(X_train,y_train)\n",
    "acc_train_gbc = gbc.score(X_train,y_train)\n",
    "acc_test_gbc = gbc.score(X_test,y_test)\n",
    "\n",
    "print(\"dct\")\n",
    "print(acc_train_dct, acc_test_dct)\n",
    "print('-' * 10)\n",
    "print(\"rfc\")\n",
    "print(acc_train_rfc, acc_test_rfc)\n",
    "print('-' * 10)\n",
    "print(\"gbc\")\n",
    "print(acc_train_gbc, acc_test_gbc)\n",
    "print('-' * 10)"
   ]
  },
  {
   "cell_type": "code",
   "execution_count": null,
   "metadata": {},
   "outputs": [
    {
     "data": {
      "image/png": "[encoded data removed]",
      "text/plain": [
       "<Figure size 640x480 with 1 Axes>"
      ]
     },
     "metadata": {},
     "output_type": "display_data"
    }
   ],
   "source": [
    "acc_list_x = ['dct_train', 'dct_test', 'rfc_train','rfc_test', 'gbc_train', 'gbc_test']\n",
    "acc_list_y = [acc_train_dct ,acc_test_dct ,acc_train_rfc ,acc_test_rfc ,acc_train_gbc ,acc_test_gbc]\n",
    "\n",
    "colors = ['orange','orange','blue','blue','red','red']\n",
    "plt.bar(acc_list_x,acc_list_y,color = colors)\n",
    "plt.ylim(0.8,1.0)\n",
    "plt.show()"
   ]
  },
  {
   "cell_type": "markdown",
   "metadata": {},
   "source": [
    "#### 딥러닝으로 AI 모델링하기"
   ]
  },
  {
   "cell_type": "markdown",
   "metadata": {},
   "source": [
    "1. 인공신경망 (ANN : Artificial Neural Network)\n",
    "    - 인간의 신경망의 뉴런 중 수상돌기들이 자극을 받아 세포핵에서 신호를 생성하며 축삭돌기로 전달, 이 과정을 컴퓨터 알고리즘으로 구현한 것\n",
    "    - w : 가중치, b : 바이어스 이 2개를 조절하며 최적의 값을 찾아간다.\n",
    "    1. Weight(가중치) 와 bias(편향)\n",
    "        - 가중치와 편향을 조절하며 결과를 도출하기 위한 최적의 값을 찾아가면서 학습한다.\n",
    "        - 가중치의 영향이 크기 때문에 편향을 적절히 조절하면서 가중합을 찾아나간다.\n",
    "    $$\n",
    "    \\text{가중합} = \\sum_{i = 1}^{k}w_i * x_i + b\n",
    "    $$\n",
    "2. 활성화 함수 (Activate function)\n",
    "    1. Sigmoid\n",
    "    $$\n",
    "        \\text{sigmoid(x)} = \\frac{1}{1 + e^{-x}}\n",
    "    $$\n",
    "        \n",
    "\n",
    "    2. tanh\n",
    "        - sigmoid 가 은닉층에서 제대로 학습이 되지 않는 단점을 보완하기 위해 사용하였다. 범위는 -1 ~ 1로 미분값이 커졌으나 기울기 소실이 발생하는 문제가 있다.\n",
    "    $$\n",
    "    tanh(x) = \\frac{\\sinh x}{\\cosh x} = \\frac{e^x - e^{-x}}{e^x + e^{-x}}\n",
    "    $$\n",
    "    3. ReLU (Rectified Linear Unit)\n",
    "        - ReLU는 tanh가 가지는 기울기 소실(Grediant Vanishing)의 문제를 해결하기 위해 제안되었으며 입력값이 양수일 경우 미분값은 항상 1이나 음수의 경우 값을 회생시키지 못한다.\n",
    "    $$\n",
    "    \\text{ReLU(x)} = max(0,x) = \\begin{cases}{0\\quad if x < 0}\\\\{x \\quad if x >= 0}\\end{cases}\n",
    "    $$\n",
    "    4. Leaky ReLU\n",
    "        - ReLU의 단점을 보완하기 위해 나온 함수로 음수 입력시 가중치를 곱해 아주 작은 값로 만듬. 0 이하에서도 가중치가 사라지지 않아 기울기 소실 문제를 해결할 수 있다.\n",
    "    $$\n",
    "    \\text{Leaky ReLU{x}} = max(ax, x) = \\begin{cases}{ax\\quad if x < 0}\\\\{x\\quad if x >= 0}\\end{cases}\n",
    "    $$\n",
    "    5. softmax\n",
    "        - 소프트맥스는 n개 입력 당 출력이 n개 이다.\n",
    "        - 입력값을 정규화 해주는 함수로 입력시 전체 합이 1인 확률을 출력하고 이중 가장 큰 값이 출력값이 된다.\n",
    "    $$\n",
    "    \\text{softmax(x)} = \\sum_{j = 1}^{k}e^{z_i}\n",
    "    $$\n",
    "\n",
    "    3. 심층 신경망 (Deep Neural Network)\n",
    "    - 입력층(input layer)와 출력층(output layer) 사이에 여러 개의 은닉층(hidden layer)가 있는 신경망 알고리즘 의미함.\n",
    "        1. 가중치 표기법\n",
    "        $$\n",
    "        {w^l_{ij}}\n",
    "        $$\n",
    "        - l 은 l층의 가중치\n",
    "        - i 는 다음층의 i번째 뉴런\n",
    "        - j 는 l층의 j번째 뉴런\n",
    "        2. 순전파 (Foward propagation)\n",
    "            - 샘플을 입력층에서 시작해서 샘플의 패턴을 신경망으로 전달하면서 계산을 수행하는 과정\n",
    "        3. 은닉층의 공식\n",
    "        $$\n",
    "        h = f(Wx +b)\n",
    "        $$\n",
    "        - f : 활성화 함수 (Ex. ReLU, softmax..)\n",
    "        - W : 각 뉴런층의 가중치 행렬\n",
    "        - b : 편향 벡터\n",
    "        - x : 입력 벡터\n",
    "\n",
    "            <img src=\"./img/DNN.png\" width=\"300\"/>\n",
    "\n",
    "        - $z_1 = x_1 * W_1 + x_2 * w_3$\n",
    "        - $z_2 = x_1 * W_2 + x_2 * w_4$\n",
    "        - $z_1, z_2$의 값이 h1,h2 즉 은닉층의 입력으로 들어가게 된다.\n",
    "        - $h_1 = f(z_1)$\n",
    "        - $h_2 = f(z_2)$\n",
    "        - 이런 방식으로 계속 다음 층으로 넘어가면서 계산을 하는 것이다."
   ]
  },
  {
   "cell_type": "markdown",
   "metadata": {},
   "source": []
  }
 ],
 "metadata": {
  "kernelspec": {
   "display_name": "Python 3",
   "language": "python",
   "name": "python3"
  },
  "language_info": {
   "codemirror_mode": {
    "name": "ipython",
    "version": 3
   },
   "file_extension": ".py",
   "mimetype": "text/x-python",
   "name": "python",
   "nbconvert_exporter": "python",
   "pygments_lexer": "ipython3",
   "version": "3.12.6"
  }
 },
 "nbformat": 4,
 "nbformat_minor": 2
}
